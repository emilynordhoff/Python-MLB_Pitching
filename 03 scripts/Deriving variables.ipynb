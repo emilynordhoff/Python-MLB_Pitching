{
 "cells": [
  {
   "cell_type": "markdown",
   "id": "aa951475",
   "metadata": {},
   "source": [
    "<font color=purple > _**Emily Nordhoff - 2022**_ </font>"
   ]
  },
  {
   "cell_type": "markdown",
   "id": "b90f8d48",
   "metadata": {},
   "source": [
    "# Deriving variables"
   ]
  },
  {
   "cell_type": "markdown",
   "id": "9ca1d60d",
   "metadata": {},
   "source": [
    "This script contains variable derivation for a project about hits in the MLB. Data was gathered from BaseballSavant.mlb.com from the 2021 season. It includes all batted balls in play in the whole season."
   ]
  },
  {
   "cell_type": "markdown",
   "id": "f558963b",
   "metadata": {},
   "source": [
    "### Contents"
   ]
  },
  {
   "cell_type": "markdown",
   "id": "8de64962",
   "metadata": {},
   "source": [
    "    1. Importing data and libraries\n",
    "    2. Merge with ballparks\n",
    "    3. Derive new variables\n",
    "        3.1 Home or away batter\n",
    "        3.2 Launch_speed_angle categories\n",
    "        3.3 Runners on base\n",
    "        3.4 Scoring plays\n",
    "    4. Wrap up and Export"
   ]
  },
  {
   "cell_type": "markdown",
   "id": "33e50f07",
   "metadata": {},
   "source": [
    "## 1. Importing data and libraries"
   ]
  },
  {
   "cell_type": "code",
   "execution_count": 1,
   "id": "a173d16f",
   "metadata": {},
   "outputs": [],
   "source": [
    "import pandas as pd\n",
    "import numpy as np\n",
    "import os"
   ]
  },
  {
   "cell_type": "code",
   "execution_count": 2,
   "id": "841dc47f",
   "metadata": {},
   "outputs": [],
   "source": [
    "path = r'/Users/Emily/Documents/CF Data Analysis Program/Immersion 6/Hits Analysis/'"
   ]
  },
  {
   "cell_type": "code",
   "execution_count": 3,
   "id": "fae6515d",
   "metadata": {},
   "outputs": [],
   "source": [
    "bip = pd.read_csv(os.path.join(path,'02 data','prepared data','bip_clean.csv'))"
   ]
  },
  {
   "cell_type": "code",
   "execution_count": 4,
   "id": "b926d493",
   "metadata": {},
   "outputs": [],
   "source": [
    "parks = pd.read_pickle(os.path.join(path,'02 data','prepared data','mlb_ballparks_clean.pkl'))"
   ]
  },
  {
   "cell_type": "code",
   "execution_count": 5,
   "id": "b0838a2b",
   "metadata": {},
   "outputs": [
    {
     "data": {
      "text/html": [
       "<div>\n",
       "<style scoped>\n",
       "    .dataframe tbody tr th:only-of-type {\n",
       "        vertical-align: middle;\n",
       "    }\n",
       "\n",
       "    .dataframe tbody tr th {\n",
       "        vertical-align: top;\n",
       "    }\n",
       "\n",
       "    .dataframe thead th {\n",
       "        text-align: right;\n",
       "    }\n",
       "</style>\n",
       "<table border=\"1\" class=\"dataframe\">\n",
       "  <thead>\n",
       "    <tr style=\"text-align: right;\">\n",
       "      <th></th>\n",
       "      <th>pitch_type</th>\n",
       "      <th>game_date</th>\n",
       "      <th>release_speed</th>\n",
       "      <th>player_name</th>\n",
       "      <th>batter</th>\n",
       "      <th>pitcher</th>\n",
       "      <th>events</th>\n",
       "      <th>zone</th>\n",
       "      <th>stand</th>\n",
       "      <th>p_throws</th>\n",
       "      <th>...</th>\n",
       "      <th>home_score</th>\n",
       "      <th>away_score</th>\n",
       "      <th>bat_score</th>\n",
       "      <th>fld_score</th>\n",
       "      <th>post_away_score</th>\n",
       "      <th>post_home_score</th>\n",
       "      <th>post_bat_score</th>\n",
       "      <th>post_fld_score</th>\n",
       "      <th>if_fielding_alignment</th>\n",
       "      <th>of_fielding_alignment</th>\n",
       "    </tr>\n",
       "  </thead>\n",
       "  <tbody>\n",
       "    <tr>\n",
       "      <th>0</th>\n",
       "      <td>FC</td>\n",
       "      <td>2021-04-30</td>\n",
       "      <td>82.7</td>\n",
       "      <td>Altuve, Jose</td>\n",
       "      <td>514888</td>\n",
       "      <td>642232</td>\n",
       "      <td>field_out</td>\n",
       "      <td>4.0</td>\n",
       "      <td>R</td>\n",
       "      <td>L</td>\n",
       "      <td>...</td>\n",
       "      <td>0</td>\n",
       "      <td>5</td>\n",
       "      <td>5</td>\n",
       "      <td>0</td>\n",
       "      <td>5</td>\n",
       "      <td>0</td>\n",
       "      <td>5</td>\n",
       "      <td>0</td>\n",
       "      <td>Infield shift</td>\n",
       "      <td>Standard</td>\n",
       "    </tr>\n",
       "    <tr>\n",
       "      <th>1</th>\n",
       "      <td>FC</td>\n",
       "      <td>2021-04-30</td>\n",
       "      <td>82.4</td>\n",
       "      <td>Maldonado, Martín</td>\n",
       "      <td>455117</td>\n",
       "      <td>642232</td>\n",
       "      <td>field_out</td>\n",
       "      <td>8.0</td>\n",
       "      <td>R</td>\n",
       "      <td>L</td>\n",
       "      <td>...</td>\n",
       "      <td>0</td>\n",
       "      <td>5</td>\n",
       "      <td>5</td>\n",
       "      <td>0</td>\n",
       "      <td>5</td>\n",
       "      <td>0</td>\n",
       "      <td>5</td>\n",
       "      <td>0</td>\n",
       "      <td>Standard</td>\n",
       "      <td>Strategic</td>\n",
       "    </tr>\n",
       "    <tr>\n",
       "      <th>2</th>\n",
       "      <td>CH</td>\n",
       "      <td>2021-04-30</td>\n",
       "      <td>83.8</td>\n",
       "      <td>Kiermaier, Kevin</td>\n",
       "      <td>595281</td>\n",
       "      <td>621121</td>\n",
       "      <td>field_out</td>\n",
       "      <td>5.0</td>\n",
       "      <td>L</td>\n",
       "      <td>R</td>\n",
       "      <td>...</td>\n",
       "      <td>0</td>\n",
       "      <td>6</td>\n",
       "      <td>0</td>\n",
       "      <td>6</td>\n",
       "      <td>6</td>\n",
       "      <td>0</td>\n",
       "      <td>0</td>\n",
       "      <td>6</td>\n",
       "      <td>Infield shift</td>\n",
       "      <td>Standard</td>\n",
       "    </tr>\n",
       "    <tr>\n",
       "      <th>3</th>\n",
       "      <td>KC</td>\n",
       "      <td>2021-04-30</td>\n",
       "      <td>83.8</td>\n",
       "      <td>Madrigal, Nick</td>\n",
       "      <td>663611</td>\n",
       "      <td>669456</td>\n",
       "      <td>field_out</td>\n",
       "      <td>8.0</td>\n",
       "      <td>R</td>\n",
       "      <td>R</td>\n",
       "      <td>...</td>\n",
       "      <td>3</td>\n",
       "      <td>4</td>\n",
       "      <td>3</td>\n",
       "      <td>4</td>\n",
       "      <td>4</td>\n",
       "      <td>3</td>\n",
       "      <td>3</td>\n",
       "      <td>4</td>\n",
       "      <td>Standard</td>\n",
       "      <td>Standard</td>\n",
       "    </tr>\n",
       "    <tr>\n",
       "      <th>4</th>\n",
       "      <td>FF</td>\n",
       "      <td>2021-04-30</td>\n",
       "      <td>89.4</td>\n",
       "      <td>Reynolds, Bryan</td>\n",
       "      <td>668804</td>\n",
       "      <td>607231</td>\n",
       "      <td>field_out</td>\n",
       "      <td>6.0</td>\n",
       "      <td>L</td>\n",
       "      <td>R</td>\n",
       "      <td>...</td>\n",
       "      <td>1</td>\n",
       "      <td>3</td>\n",
       "      <td>1</td>\n",
       "      <td>3</td>\n",
       "      <td>3</td>\n",
       "      <td>1</td>\n",
       "      <td>1</td>\n",
       "      <td>3</td>\n",
       "      <td>Strategic</td>\n",
       "      <td>Standard</td>\n",
       "    </tr>\n",
       "  </tbody>\n",
       "</table>\n",
       "<p>5 rows × 50 columns</p>\n",
       "</div>"
      ],
      "text/plain": [
       "  pitch_type   game_date  release_speed        player_name  batter  pitcher  \\\n",
       "0         FC  2021-04-30           82.7       Altuve, Jose  514888   642232   \n",
       "1         FC  2021-04-30           82.4  Maldonado, Martín  455117   642232   \n",
       "2         CH  2021-04-30           83.8   Kiermaier, Kevin  595281   621121   \n",
       "3         KC  2021-04-30           83.8     Madrigal, Nick  663611   669456   \n",
       "4         FF  2021-04-30           89.4    Reynolds, Bryan  668804   607231   \n",
       "\n",
       "      events  zone stand p_throws  ... home_score away_score  bat_score  \\\n",
       "0  field_out   4.0     R        L  ...          0          5          5   \n",
       "1  field_out   8.0     R        L  ...          0          5          5   \n",
       "2  field_out   5.0     L        R  ...          0          6          0   \n",
       "3  field_out   8.0     R        R  ...          3          4          3   \n",
       "4  field_out   6.0     L        R  ...          1          3          1   \n",
       "\n",
       "  fld_score  post_away_score  post_home_score  post_bat_score  post_fld_score  \\\n",
       "0         0                5                0               5               0   \n",
       "1         0                5                0               5               0   \n",
       "2         6                6                0               0               6   \n",
       "3         4                4                3               3               4   \n",
       "4         3                3                1               1               3   \n",
       "\n",
       "   if_fielding_alignment  of_fielding_alignment  \n",
       "0          Infield shift               Standard  \n",
       "1               Standard              Strategic  \n",
       "2          Infield shift               Standard  \n",
       "3               Standard               Standard  \n",
       "4              Strategic               Standard  \n",
       "\n",
       "[5 rows x 50 columns]"
      ]
     },
     "execution_count": 5,
     "metadata": {},
     "output_type": "execute_result"
    }
   ],
   "source": [
    "bip.head()"
   ]
  },
  {
   "cell_type": "code",
   "execution_count": 6,
   "id": "c5c24812",
   "metadata": {},
   "outputs": [
    {
     "data": {
      "text/plain": [
       "(121707, 50)"
      ]
     },
     "execution_count": 6,
     "metadata": {},
     "output_type": "execute_result"
    }
   ],
   "source": [
    "bip.shape"
   ]
  },
  {
   "cell_type": "code",
   "execution_count": 7,
   "id": "ad69e51d",
   "metadata": {},
   "outputs": [
    {
     "name": "stdout",
     "output_type": "stream",
     "text": [
      "<class 'pandas.core.frame.DataFrame'>\n",
      "Int64Index: 121707 entries, 0 to 22863\n",
      "Columns: 50 entries, pitch_type to of_fielding_alignment\n",
      "dtypes: float64(20), int64(17), object(13)\n",
      "memory usage: 47.4+ MB\n"
     ]
    }
   ],
   "source": [
    "bip.info(verbose=False)"
   ]
  },
  {
   "cell_type": "code",
   "execution_count": 8,
   "id": "99ab9fa7",
   "metadata": {},
   "outputs": [
    {
     "data": {
      "text/html": [
       "<div>\n",
       "<style scoped>\n",
       "    .dataframe tbody tr th:only-of-type {\n",
       "        vertical-align: middle;\n",
       "    }\n",
       "\n",
       "    .dataframe tbody tr th {\n",
       "        vertical-align: top;\n",
       "    }\n",
       "\n",
       "    .dataframe thead th {\n",
       "        text-align: right;\n",
       "    }\n",
       "</style>\n",
       "<table border=\"1\" class=\"dataframe\">\n",
       "  <thead>\n",
       "    <tr style=\"text-align: right;\">\n",
       "      <th></th>\n",
       "      <th>Name</th>\n",
       "      <th>Capacity</th>\n",
       "      <th>Location</th>\n",
       "      <th>Surface</th>\n",
       "      <th>Team</th>\n",
       "      <th>Opened</th>\n",
       "      <th>Distance to center field</th>\n",
       "      <th>Roof type</th>\n",
       "      <th>Team abbrev</th>\n",
       "    </tr>\n",
       "  </thead>\n",
       "  <tbody>\n",
       "    <tr>\n",
       "      <th>0</th>\n",
       "      <td>Chase Field</td>\n",
       "      <td>48405</td>\n",
       "      <td>Phoenix, Arizona</td>\n",
       "      <td>Artificial turf</td>\n",
       "      <td>Arizona Diamondbacks</td>\n",
       "      <td>1998</td>\n",
       "      <td>407</td>\n",
       "      <td>Retractable</td>\n",
       "      <td>ARI</td>\n",
       "    </tr>\n",
       "    <tr>\n",
       "      <th>1</th>\n",
       "      <td>Truist Park</td>\n",
       "      <td>41084</td>\n",
       "      <td>Cumberland, Georgia</td>\n",
       "      <td>Grass</td>\n",
       "      <td>Atlanta Braves</td>\n",
       "      <td>2017</td>\n",
       "      <td>400</td>\n",
       "      <td>Open</td>\n",
       "      <td>ATL</td>\n",
       "    </tr>\n",
       "    <tr>\n",
       "      <th>2</th>\n",
       "      <td>Oriole Park at Camden Yards</td>\n",
       "      <td>45971</td>\n",
       "      <td>Baltimore, Maryland</td>\n",
       "      <td>Grass</td>\n",
       "      <td>Baltimore Orioles</td>\n",
       "      <td>1992</td>\n",
       "      <td>410</td>\n",
       "      <td>Open</td>\n",
       "      <td>BAL</td>\n",
       "    </tr>\n",
       "    <tr>\n",
       "      <th>3</th>\n",
       "      <td>Fenway Park</td>\n",
       "      <td>37755</td>\n",
       "      <td>Boston, Massachusetts</td>\n",
       "      <td>Grass</td>\n",
       "      <td>Boston Red Sox</td>\n",
       "      <td>1912</td>\n",
       "      <td>390</td>\n",
       "      <td>Open</td>\n",
       "      <td>BOS</td>\n",
       "    </tr>\n",
       "    <tr>\n",
       "      <th>4</th>\n",
       "      <td>Wrigley Field</td>\n",
       "      <td>41649</td>\n",
       "      <td>Chicago, Illinois</td>\n",
       "      <td>Grass</td>\n",
       "      <td>Chicago Cubs</td>\n",
       "      <td>1914</td>\n",
       "      <td>400</td>\n",
       "      <td>Open</td>\n",
       "      <td>CHC</td>\n",
       "    </tr>\n",
       "  </tbody>\n",
       "</table>\n",
       "</div>"
      ],
      "text/plain": [
       "                          Name  Capacity               Location  \\\n",
       "0                  Chase Field     48405       Phoenix, Arizona   \n",
       "1                  Truist Park     41084    Cumberland, Georgia   \n",
       "2  Oriole Park at Camden Yards     45971    Baltimore, Maryland   \n",
       "3                  Fenway Park     37755  Boston, Massachusetts   \n",
       "4                Wrigley Field     41649      Chicago, Illinois   \n",
       "\n",
       "           Surface                  Team  Opened  Distance to center field  \\\n",
       "0  Artificial turf  Arizona Diamondbacks    1998                       407   \n",
       "1            Grass        Atlanta Braves    2017                       400   \n",
       "2            Grass     Baltimore Orioles    1992                       410   \n",
       "3            Grass        Boston Red Sox    1912                       390   \n",
       "4            Grass          Chicago Cubs    1914                       400   \n",
       "\n",
       "     Roof type Team abbrev  \n",
       "0  Retractable         ARI  \n",
       "1         Open         ATL  \n",
       "2         Open         BAL  \n",
       "3         Open         BOS  \n",
       "4         Open         CHC  "
      ]
     },
     "execution_count": 8,
     "metadata": {},
     "output_type": "execute_result"
    }
   ],
   "source": [
    "parks.head()"
   ]
  },
  {
   "cell_type": "code",
   "execution_count": 9,
   "id": "27fd62d8",
   "metadata": {},
   "outputs": [
    {
     "name": "stdout",
     "output_type": "stream",
     "text": [
      "<class 'pandas.core.frame.DataFrame'>\n",
      "RangeIndex: 30 entries, 0 to 29\n",
      "Columns: 9 entries, Name to Team abbrev\n",
      "dtypes: int64(3), object(6)\n",
      "memory usage: 2.2+ KB\n"
     ]
    }
   ],
   "source": [
    "parks.info(verbose=False)"
   ]
  },
  {
   "cell_type": "markdown",
   "id": "bc0afcba",
   "metadata": {},
   "source": [
    "## 2. Merge with ballpark data"
   ]
  },
  {
   "cell_type": "code",
   "execution_count": 10,
   "id": "00fbc23b",
   "metadata": {},
   "outputs": [],
   "source": [
    "parks = parks[['Name','Location','Surface','Team','Team abbrev']]"
   ]
  },
  {
   "cell_type": "code",
   "execution_count": 11,
   "id": "391e1aff",
   "metadata": {},
   "outputs": [
    {
     "data": {
      "text/html": [
       "<div>\n",
       "<style scoped>\n",
       "    .dataframe tbody tr th:only-of-type {\n",
       "        vertical-align: middle;\n",
       "    }\n",
       "\n",
       "    .dataframe tbody tr th {\n",
       "        vertical-align: top;\n",
       "    }\n",
       "\n",
       "    .dataframe thead th {\n",
       "        text-align: right;\n",
       "    }\n",
       "</style>\n",
       "<table border=\"1\" class=\"dataframe\">\n",
       "  <thead>\n",
       "    <tr style=\"text-align: right;\">\n",
       "      <th></th>\n",
       "      <th>Name</th>\n",
       "      <th>Location</th>\n",
       "      <th>Surface</th>\n",
       "      <th>Team</th>\n",
       "      <th>Team abbrev</th>\n",
       "    </tr>\n",
       "  </thead>\n",
       "  <tbody>\n",
       "    <tr>\n",
       "      <th>0</th>\n",
       "      <td>Chase Field</td>\n",
       "      <td>Phoenix, Arizona</td>\n",
       "      <td>Artificial turf</td>\n",
       "      <td>Arizona Diamondbacks</td>\n",
       "      <td>ARI</td>\n",
       "    </tr>\n",
       "    <tr>\n",
       "      <th>1</th>\n",
       "      <td>Truist Park</td>\n",
       "      <td>Cumberland, Georgia</td>\n",
       "      <td>Grass</td>\n",
       "      <td>Atlanta Braves</td>\n",
       "      <td>ATL</td>\n",
       "    </tr>\n",
       "    <tr>\n",
       "      <th>2</th>\n",
       "      <td>Oriole Park at Camden Yards</td>\n",
       "      <td>Baltimore, Maryland</td>\n",
       "      <td>Grass</td>\n",
       "      <td>Baltimore Orioles</td>\n",
       "      <td>BAL</td>\n",
       "    </tr>\n",
       "    <tr>\n",
       "      <th>3</th>\n",
       "      <td>Fenway Park</td>\n",
       "      <td>Boston, Massachusetts</td>\n",
       "      <td>Grass</td>\n",
       "      <td>Boston Red Sox</td>\n",
       "      <td>BOS</td>\n",
       "    </tr>\n",
       "    <tr>\n",
       "      <th>4</th>\n",
       "      <td>Wrigley Field</td>\n",
       "      <td>Chicago, Illinois</td>\n",
       "      <td>Grass</td>\n",
       "      <td>Chicago Cubs</td>\n",
       "      <td>CHC</td>\n",
       "    </tr>\n",
       "  </tbody>\n",
       "</table>\n",
       "</div>"
      ],
      "text/plain": [
       "                          Name               Location          Surface  \\\n",
       "0                  Chase Field       Phoenix, Arizona  Artificial turf   \n",
       "1                  Truist Park    Cumberland, Georgia            Grass   \n",
       "2  Oriole Park at Camden Yards    Baltimore, Maryland            Grass   \n",
       "3                  Fenway Park  Boston, Massachusetts            Grass   \n",
       "4                Wrigley Field      Chicago, Illinois            Grass   \n",
       "\n",
       "                   Team Team abbrev  \n",
       "0  Arizona Diamondbacks         ARI  \n",
       "1        Atlanta Braves         ATL  \n",
       "2     Baltimore Orioles         BAL  \n",
       "3        Boston Red Sox         BOS  \n",
       "4          Chicago Cubs         CHC  "
      ]
     },
     "execution_count": 11,
     "metadata": {},
     "output_type": "execute_result"
    }
   ],
   "source": [
    "parks.head()"
   ]
  },
  {
   "cell_type": "code",
   "execution_count": 12,
   "id": "aca86db9",
   "metadata": {},
   "outputs": [],
   "source": [
    "df = bip.merge(parks, how='left', left_on='home_team', right_on='Team abbrev')"
   ]
  },
  {
   "cell_type": "code",
   "execution_count": 13,
   "id": "c442535b",
   "metadata": {},
   "outputs": [],
   "source": [
    "df.drop(columns='Team abbrev', inplace=True)\n",
    "df.rename(columns={'Team':'home_team_name', 'Surface':'park_surface',\n",
    "                   'Location':'park_location', 'Name':'park_name'}, inplace=True)"
   ]
  },
  {
   "cell_type": "markdown",
   "id": "283c502a",
   "metadata": {},
   "source": [
    "## 3. Derive new variables"
   ]
  },
  {
   "cell_type": "markdown",
   "id": "ed85e81f",
   "metadata": {},
   "source": [
    "### 3.1 Home or away batter"
   ]
  },
  {
   "cell_type": "markdown",
   "id": "5428aac8",
   "metadata": {},
   "source": [
    "There isn't a variable that indicates whether the batter is from the home or away team. We can deduce this by the top/bottom of the inning they're hitting in."
   ]
  },
  {
   "cell_type": "code",
   "execution_count": 14,
   "id": "fb61a1f8",
   "metadata": {
    "scrolled": true
   },
   "outputs": [],
   "source": [
    "df['batter_team'] = np.where(df['inning_topbot'] == 'Top', df['away_team'], df['home_team'])"
   ]
  },
  {
   "cell_type": "code",
   "execution_count": 15,
   "id": "f7911b9a",
   "metadata": {},
   "outputs": [],
   "source": [
    "df['batter_home_away'] = np.where(df['inning_topbot'] == 'Top', 'away', 'home')"
   ]
  },
  {
   "cell_type": "markdown",
   "id": "f7559bb0",
   "metadata": {},
   "source": [
    "### 3.2 Launch_speed_angle categories"
   ]
  },
  {
   "cell_type": "markdown",
   "id": "311cf61e",
   "metadata": {},
   "source": [
    "This column just indicates categories that I spend too much time looking up. Why not just replace the numbers with the category names?! Remove the column afterward."
   ]
  },
  {
   "cell_type": "code",
   "execution_count": 16,
   "id": "bc896817",
   "metadata": {},
   "outputs": [],
   "source": [
    "choices = ['Weak', 'Topped', 'Under', 'Flare/Burner', 'Solid Contact', 'Barrel']\n",
    "col = 'launch_speed_angle'\n",
    "conditions = [df[col] == 1, df[col] == 2, df[col] == 3, df[col] == 4, df[col] == 5, df[col] == 6]"
   ]
  },
  {
   "cell_type": "code",
   "execution_count": 17,
   "id": "f47c6529",
   "metadata": {},
   "outputs": [],
   "source": [
    "df['contact'] = np.select(conditions, choices)"
   ]
  },
  {
   "cell_type": "code",
   "execution_count": 18,
   "id": "439343d3",
   "metadata": {},
   "outputs": [
    {
     "data": {
      "text/plain": [
       "launch_speed_angle  contact      \n",
       "2.0                 Topped           38465\n",
       "3.0                 Under            30574\n",
       "4.0                 Flare/Burner     29218\n",
       "6.0                 Barrel            9638\n",
       "5.0                 Solid Contact     7441\n",
       "1.0                 Weak              5985\n",
       "dtype: int64"
      ]
     },
     "execution_count": 18,
     "metadata": {},
     "output_type": "execute_result"
    }
   ],
   "source": [
    "df[['launch_speed_angle','contact']].value_counts()"
   ]
  },
  {
   "cell_type": "markdown",
   "id": "bbba2ef0",
   "metadata": {},
   "source": [
    "### 3.3 Runners on base"
   ]
  },
  {
   "cell_type": "markdown",
   "id": "01824c6c",
   "metadata": {},
   "source": [
    "We don't need all the information about _which_ players are on base, but it is useful to know if there is a runner, and on which base(s). Afterward, drop the original columns."
   ]
  },
  {
   "cell_type": "code",
   "execution_count": 19,
   "id": "573fac20",
   "metadata": {},
   "outputs": [],
   "source": [
    "df['runner_1b'] = np.where(df['on_1b'].isnull() == False, 1, df['on_1b'])"
   ]
  },
  {
   "cell_type": "code",
   "execution_count": 20,
   "id": "d52605d5",
   "metadata": {},
   "outputs": [],
   "source": [
    "df['runner_2b'] = np.where(df['on_2b'].isnull() == False, 1, df['on_2b'])"
   ]
  },
  {
   "cell_type": "code",
   "execution_count": 21,
   "id": "374ad43d",
   "metadata": {},
   "outputs": [],
   "source": [
    "df['runner_3b'] = np.where(df['on_3b'].isnull() == False, 1, df['on_3b'])"
   ]
  },
  {
   "cell_type": "code",
   "execution_count": 22,
   "id": "a8e16056",
   "metadata": {},
   "outputs": [],
   "source": [
    "df.drop(columns=['on_1b', 'on_2b', 'on_3b'], inplace=True)"
   ]
  },
  {
   "cell_type": "markdown",
   "id": "6b6b899c",
   "metadata": {},
   "source": [
    "### 3.4 Scoring plays"
   ]
  },
  {
   "cell_type": "markdown",
   "id": "217908ae",
   "metadata": {},
   "source": [
    "Now that we've established which team is hitting as home/away, there's no need for the home/away scores before and after the play. But, it will be helpful to determine if there is a score change, because that will indicate the hit resulted in a run(s)."
   ]
  },
  {
   "cell_type": "code",
   "execution_count": 23,
   "id": "58fe4bb2",
   "metadata": {},
   "outputs": [],
   "source": [
    "df.drop(columns=['home_score', 'away_score', 'post_home_score', 'post_away_score', 'post_fld_score'], inplace=True)"
   ]
  },
  {
   "cell_type": "code",
   "execution_count": 24,
   "id": "f19a952f",
   "metadata": {},
   "outputs": [],
   "source": [
    "df.loc[df['post_bat_score'] > df['bat_score'], 'scoring_play'] = True\n",
    "df.loc[df['post_bat_score'] <= df['bat_score'], 'scoring_play'] = False"
   ]
  },
  {
   "cell_type": "code",
   "execution_count": 25,
   "id": "7d11301e",
   "metadata": {},
   "outputs": [
    {
     "data": {
      "text/plain": [
       "False    105728\n",
       "True      15979\n",
       "Name: scoring_play, dtype: int64"
      ]
     },
     "execution_count": 25,
     "metadata": {},
     "output_type": "execute_result"
    }
   ],
   "source": [
    "df['scoring_play'].value_counts(dropna=False)"
   ]
  },
  {
   "cell_type": "markdown",
   "id": "f8e73c67",
   "metadata": {},
   "source": [
    "## Wrap up and Export"
   ]
  },
  {
   "cell_type": "code",
   "execution_count": 26,
   "id": "c883191c",
   "metadata": {},
   "outputs": [
    {
     "data": {
      "text/plain": [
       "(121707, 53)"
      ]
     },
     "execution_count": 26,
     "metadata": {},
     "output_type": "execute_result"
    }
   ],
   "source": [
    "df.shape"
   ]
  },
  {
   "cell_type": "code",
   "execution_count": 27,
   "id": "fc9afd5e",
   "metadata": {},
   "outputs": [
    {
     "name": "stdout",
     "output_type": "stream",
     "text": [
      "<class 'pandas.core.frame.DataFrame'>\n",
      "Int64Index: 121707 entries, 0 to 121706\n",
      "Columns: 53 entries, pitch_type to scoring_play\n",
      "dtypes: float64(20), int64(12), object(21)\n",
      "memory usage: 50.1+ MB\n"
     ]
    }
   ],
   "source": [
    "df.info(verbose=False)"
   ]
  },
  {
   "cell_type": "code",
   "execution_count": 28,
   "id": "b52309a2",
   "metadata": {},
   "outputs": [],
   "source": [
    "df.to_csv(os.path.join(path, '02 data', 'prepared data', 'bip_ballparks_merged.csv'))"
   ]
  }
 ],
 "metadata": {
  "kernelspec": {
   "display_name": "Python 3 (ipykernel)",
   "language": "python",
   "name": "python3"
  },
  "language_info": {
   "codemirror_mode": {
    "name": "ipython",
    "version": 3
   },
   "file_extension": ".py",
   "mimetype": "text/x-python",
   "name": "python",
   "nbconvert_exporter": "python",
   "pygments_lexer": "ipython3",
   "version": "3.9.13"
  },
  "varInspector": {
   "cols": {
    "lenName": 16,
    "lenType": 16,
    "lenVar": 40
   },
   "kernels_config": {
    "python": {
     "delete_cmd_postfix": "",
     "delete_cmd_prefix": "del ",
     "library": "var_list.py",
     "varRefreshCmd": "print(var_dic_list())"
    },
    "r": {
     "delete_cmd_postfix": ") ",
     "delete_cmd_prefix": "rm(",
     "library": "var_list.r",
     "varRefreshCmd": "cat(var_dic_list()) "
    }
   },
   "types_to_exclude": [
    "module",
    "function",
    "builtin_function_or_method",
    "instance",
    "_Feature"
   ],
   "window_display": false
  }
 },
 "nbformat": 4,
 "nbformat_minor": 5
}

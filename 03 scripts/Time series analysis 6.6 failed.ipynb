{
 "cells": [
  {
   "cell_type": "markdown",
   "id": "dd319965",
   "metadata": {},
   "source": [
    "<font color=purple > _**Emily Nordhoff - 2022**_ </font>"
   ]
  },
  {
   "cell_type": "markdown",
   "id": "4eac84e2",
   "metadata": {},
   "source": [
    "# Sourcing & Analyzing Time Series"
   ]
  },
  {
   "cell_type": "markdown",
   "id": "e4cbd076",
   "metadata": {},
   "source": [
    "This script contains a time series analysis using pitch and hit variables from all balls in play in the MLB \n",
    "2021 season. Data was gathered from BaseballSavant.com."
   ]
  },
  {
   "cell_type": "markdown",
   "id": "2a169c74",
   "metadata": {},
   "source": [
    "### Contents"
   ]
  },
  {
   "cell_type": "markdown",
   "id": "d59ad488",
   "metadata": {},
   "source": [
    "    1. Importing data and libraries\n",
    "    2. Subsetting and wrangling time series data\n",
    "    3. Time series analysis: decomposition\n",
    "    4. Testing for stationarity\n",
    "    5. Stationarizing"
   ]
  },
  {
   "cell_type": "markdown",
   "id": "2058f10c",
   "metadata": {},
   "source": [
    "## 1. Importing data and libraries"
   ]
  },
  {
   "cell_type": "code",
   "execution_count": 1,
   "id": "4b637a57",
   "metadata": {},
   "outputs": [],
   "source": [
    "import pandas as pd\n",
    "import numpy as np\n",
    "import seaborn as sns\n",
    "import matplotlib\n",
    "import matplotlib.pyplot as plt\n",
    "import os\n",
    "import statsmodels.api as sm\n",
    "import warnings\n",
    "\n",
    "warnings.filterwarnings('ignore') \n",
    "plt.style.use('seaborn') "
   ]
  },
  {
   "cell_type": "code",
   "execution_count": 2,
   "id": "48ef2077",
   "metadata": {},
   "outputs": [],
   "source": [
    "path = r'/Users/Emily/Documents/CF Data Analysis Program/Immersion 6/Hits Analysis/'"
   ]
  },
  {
   "cell_type": "code",
   "execution_count": 3,
   "id": "07200415",
   "metadata": {},
   "outputs": [],
   "source": [
    "df = pd.read_pickle(os.path.join(path,'02 data','prepared data','bip_ballparks_merged_gis.pkl'))"
   ]
  },
  {
   "cell_type": "code",
   "execution_count": 4,
   "id": "ae4bcb1f",
   "metadata": {},
   "outputs": [
    {
     "data": {
      "text/html": [
       "<div>\n",
       "<style scoped>\n",
       "    .dataframe tbody tr th:only-of-type {\n",
       "        vertical-align: middle;\n",
       "    }\n",
       "\n",
       "    .dataframe tbody tr th {\n",
       "        vertical-align: top;\n",
       "    }\n",
       "\n",
       "    .dataframe thead th {\n",
       "        text-align: right;\n",
       "    }\n",
       "</style>\n",
       "<table border=\"1\" class=\"dataframe\">\n",
       "  <thead>\n",
       "    <tr style=\"text-align: right;\">\n",
       "      <th></th>\n",
       "      <th>pitch_type</th>\n",
       "      <th>game_date</th>\n",
       "      <th>release_speed</th>\n",
       "      <th>player_name</th>\n",
       "      <th>batter</th>\n",
       "      <th>pitcher</th>\n",
       "      <th>events</th>\n",
       "      <th>zone</th>\n",
       "      <th>stand</th>\n",
       "      <th>p_throws</th>\n",
       "      <th>...</th>\n",
       "      <th>batter_home_away</th>\n",
       "      <th>contact</th>\n",
       "      <th>runner_1b</th>\n",
       "      <th>runner_2b</th>\n",
       "      <th>runner_3b</th>\n",
       "      <th>scoring_play</th>\n",
       "      <th>Latitude</th>\n",
       "      <th>Longitude</th>\n",
       "      <th>park_city</th>\n",
       "      <th>park_state</th>\n",
       "    </tr>\n",
       "  </thead>\n",
       "  <tbody>\n",
       "    <tr>\n",
       "      <th>0</th>\n",
       "      <td>FC</td>\n",
       "      <td>2021-04-30</td>\n",
       "      <td>82.7</td>\n",
       "      <td>Altuve, Jose</td>\n",
       "      <td>514888</td>\n",
       "      <td>642232</td>\n",
       "      <td>field_out</td>\n",
       "      <td>4.0</td>\n",
       "      <td>R</td>\n",
       "      <td>L</td>\n",
       "      <td>...</td>\n",
       "      <td>away</td>\n",
       "      <td>Under</td>\n",
       "      <td>NaN</td>\n",
       "      <td>NaN</td>\n",
       "      <td>NaN</td>\n",
       "      <td>False</td>\n",
       "      <td>27.768284</td>\n",
       "      <td>-82.653961</td>\n",
       "      <td>St. Petersburg</td>\n",
       "      <td>Florida</td>\n",
       "    </tr>\n",
       "    <tr>\n",
       "      <th>1</th>\n",
       "      <td>FC</td>\n",
       "      <td>2021-04-30</td>\n",
       "      <td>82.4</td>\n",
       "      <td>Maldonado, Martín</td>\n",
       "      <td>455117</td>\n",
       "      <td>642232</td>\n",
       "      <td>field_out</td>\n",
       "      <td>8.0</td>\n",
       "      <td>R</td>\n",
       "      <td>L</td>\n",
       "      <td>...</td>\n",
       "      <td>away</td>\n",
       "      <td>Flare/Burner</td>\n",
       "      <td>NaN</td>\n",
       "      <td>NaN</td>\n",
       "      <td>NaN</td>\n",
       "      <td>False</td>\n",
       "      <td>27.768284</td>\n",
       "      <td>-82.653961</td>\n",
       "      <td>St. Petersburg</td>\n",
       "      <td>Florida</td>\n",
       "    </tr>\n",
       "    <tr>\n",
       "      <th>2</th>\n",
       "      <td>CH</td>\n",
       "      <td>2021-04-30</td>\n",
       "      <td>83.8</td>\n",
       "      <td>Kiermaier, Kevin</td>\n",
       "      <td>595281</td>\n",
       "      <td>621121</td>\n",
       "      <td>field_out</td>\n",
       "      <td>5.0</td>\n",
       "      <td>L</td>\n",
       "      <td>R</td>\n",
       "      <td>...</td>\n",
       "      <td>home</td>\n",
       "      <td>Under</td>\n",
       "      <td>NaN</td>\n",
       "      <td>NaN</td>\n",
       "      <td>NaN</td>\n",
       "      <td>False</td>\n",
       "      <td>27.768284</td>\n",
       "      <td>-82.653961</td>\n",
       "      <td>St. Petersburg</td>\n",
       "      <td>Florida</td>\n",
       "    </tr>\n",
       "    <tr>\n",
       "      <th>3</th>\n",
       "      <td>FC</td>\n",
       "      <td>2021-04-30</td>\n",
       "      <td>82.7</td>\n",
       "      <td>Straw, Myles</td>\n",
       "      <td>664702</td>\n",
       "      <td>642232</td>\n",
       "      <td>field_out</td>\n",
       "      <td>13.0</td>\n",
       "      <td>R</td>\n",
       "      <td>L</td>\n",
       "      <td>...</td>\n",
       "      <td>away</td>\n",
       "      <td>Under</td>\n",
       "      <td>NaN</td>\n",
       "      <td>NaN</td>\n",
       "      <td>NaN</td>\n",
       "      <td>False</td>\n",
       "      <td>27.768284</td>\n",
       "      <td>-82.653961</td>\n",
       "      <td>St. Petersburg</td>\n",
       "      <td>Florida</td>\n",
       "    </tr>\n",
       "    <tr>\n",
       "      <th>4</th>\n",
       "      <td>SL</td>\n",
       "      <td>2021-04-30</td>\n",
       "      <td>88.0</td>\n",
       "      <td>Díaz, Yandy</td>\n",
       "      <td>650490</td>\n",
       "      <td>621121</td>\n",
       "      <td>field_out</td>\n",
       "      <td>8.0</td>\n",
       "      <td>R</td>\n",
       "      <td>R</td>\n",
       "      <td>...</td>\n",
       "      <td>home</td>\n",
       "      <td>Barrel</td>\n",
       "      <td>NaN</td>\n",
       "      <td>1.0</td>\n",
       "      <td>NaN</td>\n",
       "      <td>False</td>\n",
       "      <td>27.768284</td>\n",
       "      <td>-82.653961</td>\n",
       "      <td>St. Petersburg</td>\n",
       "      <td>Florida</td>\n",
       "    </tr>\n",
       "  </tbody>\n",
       "</table>\n",
       "<p>5 rows × 57 columns</p>\n",
       "</div>"
      ],
      "text/plain": [
       "  pitch_type   game_date  release_speed        player_name  batter  pitcher  \\\n",
       "0         FC  2021-04-30           82.7       Altuve, Jose  514888   642232   \n",
       "1         FC  2021-04-30           82.4  Maldonado, Martín  455117   642232   \n",
       "2         CH  2021-04-30           83.8   Kiermaier, Kevin  595281   621121   \n",
       "3         FC  2021-04-30           82.7       Straw, Myles  664702   642232   \n",
       "4         SL  2021-04-30           88.0        Díaz, Yandy  650490   621121   \n",
       "\n",
       "      events  zone stand p_throws  ... batter_home_away       contact  \\\n",
       "0  field_out   4.0     R        L  ...             away         Under   \n",
       "1  field_out   8.0     R        L  ...             away  Flare/Burner   \n",
       "2  field_out   5.0     L        R  ...             home         Under   \n",
       "3  field_out  13.0     R        L  ...             away         Under   \n",
       "4  field_out   8.0     R        R  ...             home        Barrel   \n",
       "\n",
       "   runner_1b runner_2b  runner_3b  scoring_play   Latitude  Longitude  \\\n",
       "0        NaN       NaN        NaN         False  27.768284 -82.653961   \n",
       "1        NaN       NaN        NaN         False  27.768284 -82.653961   \n",
       "2        NaN       NaN        NaN         False  27.768284 -82.653961   \n",
       "3        NaN       NaN        NaN         False  27.768284 -82.653961   \n",
       "4        NaN       1.0        NaN         False  27.768284 -82.653961   \n",
       "\n",
       "        park_city  park_state  \n",
       "0  St. Petersburg     Florida  \n",
       "1  St. Petersburg     Florida  \n",
       "2  St. Petersburg     Florida  \n",
       "3  St. Petersburg     Florida  \n",
       "4  St. Petersburg     Florida  \n",
       "\n",
       "[5 rows x 57 columns]"
      ]
     },
     "execution_count": 4,
     "metadata": {},
     "output_type": "execute_result"
    }
   ],
   "source": [
    "df.head()"
   ]
  },
  {
   "cell_type": "code",
   "execution_count": 5,
   "id": "541367c3",
   "metadata": {},
   "outputs": [
    {
     "name": "stdout",
     "output_type": "stream",
     "text": [
      "<class 'pandas.core.frame.DataFrame'>\n",
      "Int64Index: 121707 entries, 0 to 121706\n",
      "Data columns (total 57 columns):\n",
      " #   Column                 Non-Null Count   Dtype  \n",
      "---  ------                 --------------   -----  \n",
      " 0   pitch_type             121654 non-null  object \n",
      " 1   game_date              121707 non-null  object \n",
      " 2   release_speed          121653 non-null  float64\n",
      " 3   player_name            121707 non-null  object \n",
      " 4   batter                 121707 non-null  int64  \n",
      " 5   pitcher                121707 non-null  int64  \n",
      " 6   events                 121707 non-null  object \n",
      " 7   zone                   121654 non-null  float64\n",
      " 8   stand                  121707 non-null  object \n",
      " 9   p_throws               121707 non-null  object \n",
      " 10  home_team              121707 non-null  object \n",
      " 11  away_team              121707 non-null  object \n",
      " 12  hit_location           115340 non-null  float64\n",
      " 13  bb_type                121703 non-null  object \n",
      " 14  balls                  121707 non-null  int64  \n",
      " 15  strikes                121707 non-null  int64  \n",
      " 16  pfx_x                  121654 non-null  float64\n",
      " 17  pfx_z                  121654 non-null  float64\n",
      " 18  plate_x                121654 non-null  float64\n",
      " 19  plate_z                121654 non-null  float64\n",
      " 20  outs_when_up           121707 non-null  int64  \n",
      " 21  inning                 121707 non-null  int64  \n",
      " 22  inning_topbot          121707 non-null  object \n",
      " 23  vx0                    121654 non-null  float64\n",
      " 24  vy0                    121654 non-null  float64\n",
      " 25  vz0                    121654 non-null  float64\n",
      " 26  ax                     121654 non-null  float64\n",
      " 27  ay                     121654 non-null  float64\n",
      " 28  az                     121654 non-null  float64\n",
      " 29  hit_distance_sc        121325 non-null  float64\n",
      " 30  launch_speed           121327 non-null  float64\n",
      " 31  launch_angle           121324 non-null  float64\n",
      " 32  game_pk                121707 non-null  int64  \n",
      " 33  launch_speed_angle     121321 non-null  float64\n",
      " 34  at_bat_number          121707 non-null  int64  \n",
      " 35  pitch_number           121707 non-null  int64  \n",
      " 36  pitch_name             121654 non-null  object \n",
      " 37  bat_score              121707 non-null  int64  \n",
      " 38  fld_score              121707 non-null  int64  \n",
      " 39  post_bat_score         121707 non-null  int64  \n",
      " 40  if_fielding_alignment  121100 non-null  object \n",
      " 41  of_fielding_alignment  121100 non-null  object \n",
      " 42  park_name              121707 non-null  object \n",
      " 43  park_location          121707 non-null  object \n",
      " 44  park_surface           121707 non-null  object \n",
      " 45  home_team_name         121707 non-null  object \n",
      " 46  batter_team            121707 non-null  object \n",
      " 47  batter_home_away       121707 non-null  object \n",
      " 48  contact                121707 non-null  object \n",
      " 49  runner_1b              38262 non-null   float64\n",
      " 50  runner_2b              23383 non-null   float64\n",
      " 51  runner_3b              11946 non-null   float64\n",
      " 52  scoring_play           121707 non-null  object \n",
      " 53  Latitude               121707 non-null  float64\n",
      " 54  Longitude              121707 non-null  float64\n",
      " 55  park_city              121707 non-null  object \n",
      " 56  park_state             121707 non-null  object \n",
      "dtypes: float64(22), int64(12), object(23)\n",
      "memory usage: 53.9+ MB\n"
     ]
    }
   ],
   "source": [
    "df.info()"
   ]
  },
  {
   "cell_type": "code",
   "execution_count": 17,
   "id": "39e7f70f",
   "metadata": {},
   "outputs": [
    {
     "data": {
      "text/plain": [
       "ground_ball    53417\n",
       "fly_ball       31195\n",
       "line_drive     28720\n",
       "popup           8371\n",
       "Name: bb_type, dtype: int64"
      ]
     },
     "execution_count": 17,
     "metadata": {},
     "output_type": "execute_result"
    }
   ],
   "source": [
    "df['bb_type'].value_counts()"
   ]
  },
  {
   "cell_type": "code",
   "execution_count": 34,
   "id": "e74d89d2",
   "metadata": {},
   "outputs": [
    {
     "data": {
      "text/plain": [
       "Topped           38465\n",
       "Under            30574\n",
       "Flare/Burner     29218\n",
       "Barrel            9638\n",
       "Solid Contact     7441\n",
       "Weak              5985\n",
       "0                  386\n",
       "Name: contact, dtype: int64"
      ]
     },
     "execution_count": 34,
     "metadata": {},
     "output_type": "execute_result"
    }
   ],
   "source": [
    "df['contact'].value_counts()"
   ]
  },
  {
   "cell_type": "code",
   "execution_count": 35,
   "id": "a592cccc",
   "metadata": {},
   "outputs": [
    {
     "data": {
      "text/plain": [
       "0.07919018626701833"
      ]
     },
     "execution_count": 35,
     "metadata": {},
     "output_type": "execute_result"
    }
   ],
   "source": [
    "df['contact'].value_counts()['Barrel']/df['contact'].value_counts().sum()"
   ]
  },
  {
   "cell_type": "markdown",
   "id": "438be621",
   "metadata": {},
   "source": [
    "## 2. Subsetting & wrangling time series data"
   ]
  },
  {
   "cell_type": "markdown",
   "id": "a4374ced",
   "metadata": {},
   "source": [
    "The two players named Rookie of the Year (one for American League and one for National League) were: Jonathan India (Reds) and Randy Arozarena (Rays). Arozarena had his MLB debut in 2020, so I'm going to focus this analysis on India because it was truly his first MLB season."
   ]
  },
  {
   "cell_type": "code",
   "execution_count": 6,
   "id": "d00d5457",
   "metadata": {},
   "outputs": [],
   "source": [
    "# create a datetime format variable\n",
    "\n",
    "from datetime import datetime\n",
    "\n",
    "df['datetime'] = pd.to_datetime(df['game_date'])"
   ]
  },
  {
   "cell_type": "code",
   "execution_count": 7,
   "id": "4630cf3e",
   "metadata": {},
   "outputs": [],
   "source": [
    "hits = ['single', 'double', 'triple', 'home_run']"
   ]
  },
  {
   "cell_type": "code",
   "execution_count": 8,
   "id": "b6131621",
   "metadata": {},
   "outputs": [],
   "source": [
    "sea = df.loc[df['batter_team'] == 'SEA']\n",
    "sea_dist = sea[['datetime','hit_distance_sc']].groupby(pd.Grouper(key='datetime', freq='W')).mean()"
   ]
  },
  {
   "cell_type": "code",
   "execution_count": 9,
   "id": "a3885e64",
   "metadata": {},
   "outputs": [
    {
     "data": {
      "text/plain": [
       "[<matplotlib.lines.Line2D at 0x11e55beb0>]"
      ]
     },
     "execution_count": 9,
     "metadata": {},
     "output_type": "execute_result"
    },
    {
     "data": {
      "image/png": "[encoded data removed]",
      "text/plain": [
       "<Figure size 432x288 with 1 Axes>"
      ]
     },
     "metadata": {
      "needs_background": "light"
     },
     "output_type": "display_data"
    }
   ],
   "source": [
    "plt.plot(sea_dist)"
   ]
  },
  {
   "cell_type": "code",
   "execution_count": 51,
   "id": "09b9ac50",
   "metadata": {},
   "outputs": [],
   "source": [
    "atl = df.loc[df['batter_team'] == 'ATL']\n",
    "atl_dist = atl[['datetime','hit_distance_sc']].groupby(pd.Grouper(key='datetime', freq='D')).mean()"
   ]
  },
  {
   "cell_type": "code",
   "execution_count": 52,
   "id": "bc3c9378",
   "metadata": {},
   "outputs": [
    {
     "data": {
      "text/plain": [
       "[<matplotlib.lines.Line2D at 0x1244455e0>]"
      ]
     },
     "execution_count": 52,
     "metadata": {},
     "output_type": "execute_result"
    },
    {
     "data": {
      "image/png": "[encoded data removed]",
      "text/plain": [
       "<Figure size 1296x504 with 1 Axes>"
      ]
     },
     "metadata": {
      "needs_background": "light"
     },
     "output_type": "display_data"
    }
   ],
   "source": [
    "plt.plot(atl_dist)"
   ]
  },
  {
   "cell_type": "code",
   "execution_count": 59,
   "id": "7ae9abc6",
   "metadata": {
    "scrolled": true
   },
   "outputs": [],
   "source": [
    "decomposition = sm.tsa.seasonal_decompose(sea_dist, model='additive', period=4)"
   ]
  },
  {
   "cell_type": "code",
   "execution_count": 54,
   "id": "a3d0d5c4",
   "metadata": {},
   "outputs": [],
   "source": [
    "from pylab import rcParams # This will define a fixed size for all special charts.\n",
    "\n",
    "rcParams['figure.figsize'] = 18, 7"
   ]
  },
  {
   "cell_type": "code",
   "execution_count": 60,
   "id": "0ddeb068",
   "metadata": {
    "scrolled": false
   },
   "outputs": [
    {
     "data": {
      "image/png": "[encoded data removed]",
      "text/plain": [
       "<Figure size 1296x504 with 4 Axes>"
      ]
     },
     "metadata": {
      "needs_background": "light"
     },
     "output_type": "display_data"
    }
   ],
   "source": [
    "# Plot the separate components\n",
    "\n",
    "decomposition.plot()\n",
    "plt.show()"
   ]
  },
  {
   "cell_type": "code",
   "execution_count": null,
   "id": "deac7b4a",
   "metadata": {},
   "outputs": [],
   "source": []
  },
  {
   "cell_type": "code",
   "execution_count": 42,
   "id": "00b48844",
   "metadata": {
    "scrolled": false
   },
   "outputs": [
    {
     "data": {
      "text/html": [
       "<div>\n",
       "<style scoped>\n",
       "    .dataframe tbody tr th:only-of-type {\n",
       "        vertical-align: middle;\n",
       "    }\n",
       "\n",
       "    .dataframe tbody tr th {\n",
       "        vertical-align: top;\n",
       "    }\n",
       "\n",
       "    .dataframe thead th {\n",
       "        text-align: right;\n",
       "    }\n",
       "</style>\n",
       "<table border=\"1\" class=\"dataframe\">\n",
       "  <thead>\n",
       "    <tr style=\"text-align: right;\">\n",
       "      <th></th>\n",
       "      <th>datetime</th>\n",
       "      <th>contact</th>\n",
       "      <th>count</th>\n",
       "    </tr>\n",
       "  </thead>\n",
       "  <tbody>\n",
       "    <tr>\n",
       "      <th>0</th>\n",
       "      <td>2021-04-04</td>\n",
       "      <td>0</td>\n",
       "      <td>6</td>\n",
       "    </tr>\n",
       "    <tr>\n",
       "      <th>1</th>\n",
       "      <td>2021-04-04</td>\n",
       "      <td>Barrel</td>\n",
       "      <td>188</td>\n",
       "    </tr>\n",
       "    <tr>\n",
       "      <th>2</th>\n",
       "      <td>2021-04-04</td>\n",
       "      <td>Flare/Burner</td>\n",
       "      <td>506</td>\n",
       "    </tr>\n",
       "    <tr>\n",
       "      <th>3</th>\n",
       "      <td>2021-04-04</td>\n",
       "      <td>Solid Contact</td>\n",
       "      <td>157</td>\n",
       "    </tr>\n",
       "    <tr>\n",
       "      <th>4</th>\n",
       "      <td>2021-04-04</td>\n",
       "      <td>Topped</td>\n",
       "      <td>713</td>\n",
       "    </tr>\n",
       "    <tr>\n",
       "      <th>...</th>\n",
       "      <td>...</td>\n",
       "      <td>...</td>\n",
       "      <td>...</td>\n",
       "    </tr>\n",
       "    <tr>\n",
       "      <th>184</th>\n",
       "      <td>2021-10-03</td>\n",
       "      <td>Flare/Burner</td>\n",
       "      <td>1179</td>\n",
       "    </tr>\n",
       "    <tr>\n",
       "      <th>185</th>\n",
       "      <td>2021-10-03</td>\n",
       "      <td>Solid Contact</td>\n",
       "      <td>281</td>\n",
       "    </tr>\n",
       "    <tr>\n",
       "      <th>186</th>\n",
       "      <td>2021-10-03</td>\n",
       "      <td>Topped</td>\n",
       "      <td>1435</td>\n",
       "    </tr>\n",
       "    <tr>\n",
       "      <th>187</th>\n",
       "      <td>2021-10-03</td>\n",
       "      <td>Under</td>\n",
       "      <td>1205</td>\n",
       "    </tr>\n",
       "    <tr>\n",
       "      <th>188</th>\n",
       "      <td>2021-10-03</td>\n",
       "      <td>Weak</td>\n",
       "      <td>220</td>\n",
       "    </tr>\n",
       "  </tbody>\n",
       "</table>\n",
       "<p>189 rows × 3 columns</p>\n",
       "</div>"
      ],
      "text/plain": [
       "      datetime        contact  count\n",
       "0   2021-04-04              0      6\n",
       "1   2021-04-04         Barrel    188\n",
       "2   2021-04-04   Flare/Burner    506\n",
       "3   2021-04-04  Solid Contact    157\n",
       "4   2021-04-04         Topped    713\n",
       "..         ...            ...    ...\n",
       "184 2021-10-03   Flare/Burner   1179\n",
       "185 2021-10-03  Solid Contact    281\n",
       "186 2021-10-03         Topped   1435\n",
       "187 2021-10-03          Under   1205\n",
       "188 2021-10-03           Weak    220\n",
       "\n",
       "[189 rows x 3 columns]"
      ]
     },
     "execution_count": 42,
     "metadata": {},
     "output_type": "execute_result"
    }
   ],
   "source": [
    "contact = df.groupby([pd.Grouper(key='datetime', freq='W'),'contact']).size().reset_index(name='count')\n",
    "contact"
   ]
  },
  {
   "cell_type": "code",
   "execution_count": 43,
   "id": "7f214927",
   "metadata": {},
   "outputs": [
    {
     "data": {
      "text/html": [
       "<div>\n",
       "<style scoped>\n",
       "    .dataframe tbody tr th:only-of-type {\n",
       "        vertical-align: middle;\n",
       "    }\n",
       "\n",
       "    .dataframe tbody tr th {\n",
       "        vertical-align: top;\n",
       "    }\n",
       "\n",
       "    .dataframe thead th {\n",
       "        text-align: right;\n",
       "    }\n",
       "</style>\n",
       "<table border=\"1\" class=\"dataframe\">\n",
       "  <thead>\n",
       "    <tr style=\"text-align: right;\">\n",
       "      <th></th>\n",
       "      <th>datetime</th>\n",
       "      <th>contact</th>\n",
       "      <th>count</th>\n",
       "      <th>total</th>\n",
       "    </tr>\n",
       "  </thead>\n",
       "  <tbody>\n",
       "    <tr>\n",
       "      <th>0</th>\n",
       "      <td>2021-04-04</td>\n",
       "      <td>0</td>\n",
       "      <td>6</td>\n",
       "      <td>2247</td>\n",
       "    </tr>\n",
       "    <tr>\n",
       "      <th>1</th>\n",
       "      <td>2021-04-04</td>\n",
       "      <td>Barrel</td>\n",
       "      <td>188</td>\n",
       "      <td>2247</td>\n",
       "    </tr>\n",
       "    <tr>\n",
       "      <th>2</th>\n",
       "      <td>2021-04-04</td>\n",
       "      <td>Flare/Burner</td>\n",
       "      <td>506</td>\n",
       "      <td>2247</td>\n",
       "    </tr>\n",
       "    <tr>\n",
       "      <th>3</th>\n",
       "      <td>2021-04-04</td>\n",
       "      <td>Solid Contact</td>\n",
       "      <td>157</td>\n",
       "      <td>2247</td>\n",
       "    </tr>\n",
       "    <tr>\n",
       "      <th>4</th>\n",
       "      <td>2021-04-04</td>\n",
       "      <td>Topped</td>\n",
       "      <td>713</td>\n",
       "      <td>2247</td>\n",
       "    </tr>\n",
       "    <tr>\n",
       "      <th>...</th>\n",
       "      <td>...</td>\n",
       "      <td>...</td>\n",
       "      <td>...</td>\n",
       "      <td>...</td>\n",
       "    </tr>\n",
       "    <tr>\n",
       "      <th>184</th>\n",
       "      <td>2021-10-03</td>\n",
       "      <td>Flare/Burner</td>\n",
       "      <td>1179</td>\n",
       "      <td>4698</td>\n",
       "    </tr>\n",
       "    <tr>\n",
       "      <th>185</th>\n",
       "      <td>2021-10-03</td>\n",
       "      <td>Solid Contact</td>\n",
       "      <td>281</td>\n",
       "      <td>4698</td>\n",
       "    </tr>\n",
       "    <tr>\n",
       "      <th>186</th>\n",
       "      <td>2021-10-03</td>\n",
       "      <td>Topped</td>\n",
       "      <td>1435</td>\n",
       "      <td>4698</td>\n",
       "    </tr>\n",
       "    <tr>\n",
       "      <th>187</th>\n",
       "      <td>2021-10-03</td>\n",
       "      <td>Under</td>\n",
       "      <td>1205</td>\n",
       "      <td>4698</td>\n",
       "    </tr>\n",
       "    <tr>\n",
       "      <th>188</th>\n",
       "      <td>2021-10-03</td>\n",
       "      <td>Weak</td>\n",
       "      <td>220</td>\n",
       "      <td>4698</td>\n",
       "    </tr>\n",
       "  </tbody>\n",
       "</table>\n",
       "<p>189 rows × 4 columns</p>\n",
       "</div>"
      ],
      "text/plain": [
       "      datetime        contact  count  total\n",
       "0   2021-04-04              0      6   2247\n",
       "1   2021-04-04         Barrel    188   2247\n",
       "2   2021-04-04   Flare/Burner    506   2247\n",
       "3   2021-04-04  Solid Contact    157   2247\n",
       "4   2021-04-04         Topped    713   2247\n",
       "..         ...            ...    ...    ...\n",
       "184 2021-10-03   Flare/Burner   1179   4698\n",
       "185 2021-10-03  Solid Contact    281   4698\n",
       "186 2021-10-03         Topped   1435   4698\n",
       "187 2021-10-03          Under   1205   4698\n",
       "188 2021-10-03           Weak    220   4698\n",
       "\n",
       "[189 rows x 4 columns]"
      ]
     },
     "execution_count": 43,
     "metadata": {},
     "output_type": "execute_result"
    }
   ],
   "source": [
    "contact['total'] = contact.groupby('datetime')['count'].transform('sum')\n",
    "contact"
   ]
  },
  {
   "cell_type": "code",
   "execution_count": 44,
   "id": "03a89726",
   "metadata": {},
   "outputs": [
    {
     "data": {
      "text/html": [
       "<div>\n",
       "<style scoped>\n",
       "    .dataframe tbody tr th:only-of-type {\n",
       "        vertical-align: middle;\n",
       "    }\n",
       "\n",
       "    .dataframe tbody tr th {\n",
       "        vertical-align: top;\n",
       "    }\n",
       "\n",
       "    .dataframe thead th {\n",
       "        text-align: right;\n",
       "    }\n",
       "</style>\n",
       "<table border=\"1\" class=\"dataframe\">\n",
       "  <thead>\n",
       "    <tr style=\"text-align: right;\">\n",
       "      <th></th>\n",
       "      <th>datetime</th>\n",
       "      <th>contact</th>\n",
       "      <th>count</th>\n",
       "      <th>total</th>\n",
       "    </tr>\n",
       "  </thead>\n",
       "  <tbody>\n",
       "    <tr>\n",
       "      <th>1</th>\n",
       "      <td>2021-04-04</td>\n",
       "      <td>Barrel</td>\n",
       "      <td>188</td>\n",
       "      <td>2247</td>\n",
       "    </tr>\n",
       "    <tr>\n",
       "      <th>8</th>\n",
       "      <td>2021-04-11</td>\n",
       "      <td>Barrel</td>\n",
       "      <td>373</td>\n",
       "      <td>4299</td>\n",
       "    </tr>\n",
       "    <tr>\n",
       "      <th>15</th>\n",
       "      <td>2021-04-18</td>\n",
       "      <td>Barrel</td>\n",
       "      <td>365</td>\n",
       "      <td>4574</td>\n",
       "    </tr>\n",
       "    <tr>\n",
       "      <th>22</th>\n",
       "      <td>2021-04-25</td>\n",
       "      <td>Barrel</td>\n",
       "      <td>385</td>\n",
       "      <td>4284</td>\n",
       "    </tr>\n",
       "    <tr>\n",
       "      <th>29</th>\n",
       "      <td>2021-05-02</td>\n",
       "      <td>Barrel</td>\n",
       "      <td>369</td>\n",
       "      <td>4703</td>\n",
       "    </tr>\n",
       "    <tr>\n",
       "      <th>36</th>\n",
       "      <td>2021-05-09</td>\n",
       "      <td>Barrel</td>\n",
       "      <td>366</td>\n",
       "      <td>4626</td>\n",
       "    </tr>\n",
       "    <tr>\n",
       "      <th>43</th>\n",
       "      <td>2021-05-16</td>\n",
       "      <td>Barrel</td>\n",
       "      <td>372</td>\n",
       "      <td>4658</td>\n",
       "    </tr>\n",
       "    <tr>\n",
       "      <th>50</th>\n",
       "      <td>2021-05-23</td>\n",
       "      <td>Barrel</td>\n",
       "      <td>399</td>\n",
       "      <td>4711</td>\n",
       "    </tr>\n",
       "    <tr>\n",
       "      <th>57</th>\n",
       "      <td>2021-05-30</td>\n",
       "      <td>Barrel</td>\n",
       "      <td>311</td>\n",
       "      <td>4294</td>\n",
       "    </tr>\n",
       "    <tr>\n",
       "      <th>64</th>\n",
       "      <td>2021-06-06</td>\n",
       "      <td>Barrel</td>\n",
       "      <td>387</td>\n",
       "      <td>4814</td>\n",
       "    </tr>\n",
       "    <tr>\n",
       "      <th>71</th>\n",
       "      <td>2021-06-13</td>\n",
       "      <td>Barrel</td>\n",
       "      <td>368</td>\n",
       "      <td>4365</td>\n",
       "    </tr>\n",
       "    <tr>\n",
       "      <th>78</th>\n",
       "      <td>2021-06-20</td>\n",
       "      <td>Barrel</td>\n",
       "      <td>378</td>\n",
       "      <td>4957</td>\n",
       "    </tr>\n",
       "    <tr>\n",
       "      <th>85</th>\n",
       "      <td>2021-06-27</td>\n",
       "      <td>Barrel</td>\n",
       "      <td>335</td>\n",
       "      <td>4433</td>\n",
       "    </tr>\n",
       "    <tr>\n",
       "      <th>92</th>\n",
       "      <td>2021-07-04</td>\n",
       "      <td>Barrel</td>\n",
       "      <td>362</td>\n",
       "      <td>4799</td>\n",
       "    </tr>\n",
       "    <tr>\n",
       "      <th>99</th>\n",
       "      <td>2021-07-11</td>\n",
       "      <td>Barrel</td>\n",
       "      <td>378</td>\n",
       "      <td>4744</td>\n",
       "    </tr>\n",
       "    <tr>\n",
       "      <th>106</th>\n",
       "      <td>2021-07-18</td>\n",
       "      <td>Barrel</td>\n",
       "      <td>172</td>\n",
       "      <td>2315</td>\n",
       "    </tr>\n",
       "    <tr>\n",
       "      <th>113</th>\n",
       "      <td>2021-07-25</td>\n",
       "      <td>Barrel</td>\n",
       "      <td>374</td>\n",
       "      <td>4730</td>\n",
       "    </tr>\n",
       "    <tr>\n",
       "      <th>120</th>\n",
       "      <td>2021-08-01</td>\n",
       "      <td>Barrel</td>\n",
       "      <td>390</td>\n",
       "      <td>4883</td>\n",
       "    </tr>\n",
       "    <tr>\n",
       "      <th>127</th>\n",
       "      <td>2021-08-08</td>\n",
       "      <td>Barrel</td>\n",
       "      <td>378</td>\n",
       "      <td>4947</td>\n",
       "    </tr>\n",
       "    <tr>\n",
       "      <th>134</th>\n",
       "      <td>2021-08-15</td>\n",
       "      <td>Barrel</td>\n",
       "      <td>358</td>\n",
       "      <td>4711</td>\n",
       "    </tr>\n",
       "    <tr>\n",
       "      <th>141</th>\n",
       "      <td>2021-08-22</td>\n",
       "      <td>Barrel</td>\n",
       "      <td>341</td>\n",
       "      <td>4772</td>\n",
       "    </tr>\n",
       "    <tr>\n",
       "      <th>148</th>\n",
       "      <td>2021-08-29</td>\n",
       "      <td>Barrel</td>\n",
       "      <td>362</td>\n",
       "      <td>4745</td>\n",
       "    </tr>\n",
       "    <tr>\n",
       "      <th>155</th>\n",
       "      <td>2021-09-05</td>\n",
       "      <td>Barrel</td>\n",
       "      <td>382</td>\n",
       "      <td>4769</td>\n",
       "    </tr>\n",
       "    <tr>\n",
       "      <th>162</th>\n",
       "      <td>2021-09-12</td>\n",
       "      <td>Barrel</td>\n",
       "      <td>409</td>\n",
       "      <td>4977</td>\n",
       "    </tr>\n",
       "    <tr>\n",
       "      <th>169</th>\n",
       "      <td>2021-09-19</td>\n",
       "      <td>Barrel</td>\n",
       "      <td>385</td>\n",
       "      <td>4731</td>\n",
       "    </tr>\n",
       "    <tr>\n",
       "      <th>176</th>\n",
       "      <td>2021-09-26</td>\n",
       "      <td>Barrel</td>\n",
       "      <td>382</td>\n",
       "      <td>4921</td>\n",
       "    </tr>\n",
       "    <tr>\n",
       "      <th>183</th>\n",
       "      <td>2021-10-03</td>\n",
       "      <td>Barrel</td>\n",
       "      <td>369</td>\n",
       "      <td>4698</td>\n",
       "    </tr>\n",
       "  </tbody>\n",
       "</table>\n",
       "</div>"
      ],
      "text/plain": [
       "      datetime contact  count  total\n",
       "1   2021-04-04  Barrel    188   2247\n",
       "8   2021-04-11  Barrel    373   4299\n",
       "15  2021-04-18  Barrel    365   4574\n",
       "22  2021-04-25  Barrel    385   4284\n",
       "29  2021-05-02  Barrel    369   4703\n",
       "36  2021-05-09  Barrel    366   4626\n",
       "43  2021-05-16  Barrel    372   4658\n",
       "50  2021-05-23  Barrel    399   4711\n",
       "57  2021-05-30  Barrel    311   4294\n",
       "64  2021-06-06  Barrel    387   4814\n",
       "71  2021-06-13  Barrel    368   4365\n",
       "78  2021-06-20  Barrel    378   4957\n",
       "85  2021-06-27  Barrel    335   4433\n",
       "92  2021-07-04  Barrel    362   4799\n",
       "99  2021-07-11  Barrel    378   4744\n",
       "106 2021-07-18  Barrel    172   2315\n",
       "113 2021-07-25  Barrel    374   4730\n",
       "120 2021-08-01  Barrel    390   4883\n",
       "127 2021-08-08  Barrel    378   4947\n",
       "134 2021-08-15  Barrel    358   4711\n",
       "141 2021-08-22  Barrel    341   4772\n",
       "148 2021-08-29  Barrel    362   4745\n",
       "155 2021-09-05  Barrel    382   4769\n",
       "162 2021-09-12  Barrel    409   4977\n",
       "169 2021-09-19  Barrel    385   4731\n",
       "176 2021-09-26  Barrel    382   4921\n",
       "183 2021-10-03  Barrel    369   4698"
      ]
     },
     "execution_count": 44,
     "metadata": {},
     "output_type": "execute_result"
    }
   ],
   "source": [
    "contact = contact.loc[contact['contact'] == 'Barrel']\n",
    "contact"
   ]
  },
  {
   "cell_type": "code",
   "execution_count": 45,
   "id": "50c11627",
   "metadata": {},
   "outputs": [
    {
     "data": {
      "text/html": [
       "<div>\n",
       "<style scoped>\n",
       "    .dataframe tbody tr th:only-of-type {\n",
       "        vertical-align: middle;\n",
       "    }\n",
       "\n",
       "    .dataframe tbody tr th {\n",
       "        vertical-align: top;\n",
       "    }\n",
       "\n",
       "    .dataframe thead th {\n",
       "        text-align: right;\n",
       "    }\n",
       "</style>\n",
       "<table border=\"1\" class=\"dataframe\">\n",
       "  <thead>\n",
       "    <tr style=\"text-align: right;\">\n",
       "      <th></th>\n",
       "      <th>datetime</th>\n",
       "      <th>percent</th>\n",
       "    </tr>\n",
       "  </thead>\n",
       "  <tbody>\n",
       "    <tr>\n",
       "      <th>0</th>\n",
       "      <td>2021-04-04</td>\n",
       "      <td>0.083667</td>\n",
       "    </tr>\n",
       "    <tr>\n",
       "      <th>1</th>\n",
       "      <td>2021-04-11</td>\n",
       "      <td>0.086764</td>\n",
       "    </tr>\n",
       "    <tr>\n",
       "      <th>2</th>\n",
       "      <td>2021-04-18</td>\n",
       "      <td>0.079799</td>\n",
       "    </tr>\n",
       "    <tr>\n",
       "      <th>3</th>\n",
       "      <td>2021-04-25</td>\n",
       "      <td>0.089869</td>\n",
       "    </tr>\n",
       "    <tr>\n",
       "      <th>4</th>\n",
       "      <td>2021-05-02</td>\n",
       "      <td>0.078461</td>\n",
       "    </tr>\n",
       "    <tr>\n",
       "      <th>5</th>\n",
       "      <td>2021-05-09</td>\n",
       "      <td>0.079118</td>\n",
       "    </tr>\n",
       "    <tr>\n",
       "      <th>6</th>\n",
       "      <td>2021-05-16</td>\n",
       "      <td>0.079863</td>\n",
       "    </tr>\n",
       "    <tr>\n",
       "      <th>7</th>\n",
       "      <td>2021-05-23</td>\n",
       "      <td>0.084695</td>\n",
       "    </tr>\n",
       "    <tr>\n",
       "      <th>8</th>\n",
       "      <td>2021-05-30</td>\n",
       "      <td>0.072427</td>\n",
       "    </tr>\n",
       "    <tr>\n",
       "      <th>9</th>\n",
       "      <td>2021-06-06</td>\n",
       "      <td>0.080391</td>\n",
       "    </tr>\n",
       "    <tr>\n",
       "      <th>10</th>\n",
       "      <td>2021-06-13</td>\n",
       "      <td>0.084307</td>\n",
       "    </tr>\n",
       "    <tr>\n",
       "      <th>11</th>\n",
       "      <td>2021-06-20</td>\n",
       "      <td>0.076256</td>\n",
       "    </tr>\n",
       "    <tr>\n",
       "      <th>12</th>\n",
       "      <td>2021-06-27</td>\n",
       "      <td>0.075570</td>\n",
       "    </tr>\n",
       "    <tr>\n",
       "      <th>13</th>\n",
       "      <td>2021-07-04</td>\n",
       "      <td>0.075432</td>\n",
       "    </tr>\n",
       "    <tr>\n",
       "      <th>14</th>\n",
       "      <td>2021-07-11</td>\n",
       "      <td>0.079680</td>\n",
       "    </tr>\n",
       "    <tr>\n",
       "      <th>15</th>\n",
       "      <td>2021-07-18</td>\n",
       "      <td>0.074298</td>\n",
       "    </tr>\n",
       "    <tr>\n",
       "      <th>16</th>\n",
       "      <td>2021-07-25</td>\n",
       "      <td>0.079070</td>\n",
       "    </tr>\n",
       "    <tr>\n",
       "      <th>17</th>\n",
       "      <td>2021-08-01</td>\n",
       "      <td>0.079869</td>\n",
       "    </tr>\n",
       "    <tr>\n",
       "      <th>18</th>\n",
       "      <td>2021-08-08</td>\n",
       "      <td>0.076410</td>\n",
       "    </tr>\n",
       "    <tr>\n",
       "      <th>19</th>\n",
       "      <td>2021-08-15</td>\n",
       "      <td>0.075992</td>\n",
       "    </tr>\n",
       "    <tr>\n",
       "      <th>20</th>\n",
       "      <td>2021-08-22</td>\n",
       "      <td>0.071459</td>\n",
       "    </tr>\n",
       "    <tr>\n",
       "      <th>21</th>\n",
       "      <td>2021-08-29</td>\n",
       "      <td>0.076291</td>\n",
       "    </tr>\n",
       "    <tr>\n",
       "      <th>22</th>\n",
       "      <td>2021-09-05</td>\n",
       "      <td>0.080101</td>\n",
       "    </tr>\n",
       "    <tr>\n",
       "      <th>23</th>\n",
       "      <td>2021-09-12</td>\n",
       "      <td>0.082178</td>\n",
       "    </tr>\n",
       "    <tr>\n",
       "      <th>24</th>\n",
       "      <td>2021-09-19</td>\n",
       "      <td>0.081378</td>\n",
       "    </tr>\n",
       "    <tr>\n",
       "      <th>25</th>\n",
       "      <td>2021-09-26</td>\n",
       "      <td>0.077626</td>\n",
       "    </tr>\n",
       "    <tr>\n",
       "      <th>26</th>\n",
       "      <td>2021-10-03</td>\n",
       "      <td>0.078544</td>\n",
       "    </tr>\n",
       "  </tbody>\n",
       "</table>\n",
       "</div>"
      ],
      "text/plain": [
       "     datetime   percent\n",
       "0  2021-04-04  0.083667\n",
       "1  2021-04-11  0.086764\n",
       "2  2021-04-18  0.079799\n",
       "3  2021-04-25  0.089869\n",
       "4  2021-05-02  0.078461\n",
       "5  2021-05-09  0.079118\n",
       "6  2021-05-16  0.079863\n",
       "7  2021-05-23  0.084695\n",
       "8  2021-05-30  0.072427\n",
       "9  2021-06-06  0.080391\n",
       "10 2021-06-13  0.084307\n",
       "11 2021-06-20  0.076256\n",
       "12 2021-06-27  0.075570\n",
       "13 2021-07-04  0.075432\n",
       "14 2021-07-11  0.079680\n",
       "15 2021-07-18  0.074298\n",
       "16 2021-07-25  0.079070\n",
       "17 2021-08-01  0.079869\n",
       "18 2021-08-08  0.076410\n",
       "19 2021-08-15  0.075992\n",
       "20 2021-08-22  0.071459\n",
       "21 2021-08-29  0.076291\n",
       "22 2021-09-05  0.080101\n",
       "23 2021-09-12  0.082178\n",
       "24 2021-09-19  0.081378\n",
       "25 2021-09-26  0.077626\n",
       "26 2021-10-03  0.078544"
      ]
     },
     "execution_count": 45,
     "metadata": {},
     "output_type": "execute_result"
    }
   ],
   "source": [
    "contact['percent'] = contact['count']/contact['total']\n",
    "contact.drop(columns=['contact', 'count', 'total'], inplace=True)\n",
    "contact.reset_index(drop=True)"
   ]
  },
  {
   "cell_type": "code",
   "execution_count": 47,
   "id": "330621d5",
   "metadata": {},
   "outputs": [
    {
     "name": "stdout",
     "output_type": "stream",
     "text": [
      "<class 'pandas.core.frame.DataFrame'>\n",
      "Int64Index: 27 entries, 1 to 183\n",
      "Data columns (total 2 columns):\n",
      " #   Column    Non-Null Count  Dtype         \n",
      "---  ------    --------------  -----         \n",
      " 0   datetime  27 non-null     datetime64[ns]\n",
      " 1   percent   27 non-null     float64       \n",
      "dtypes: datetime64[ns](1), float64(1)\n",
      "memory usage: 648.0 bytes\n"
     ]
    }
   ],
   "source": [
    "contact.info()"
   ]
  },
  {
   "cell_type": "code",
   "execution_count": 50,
   "id": "f5cc199b",
   "metadata": {},
   "outputs": [
    {
     "data": {
      "text/plain": [
       "<AxesSubplot:xlabel='datetime', ylabel='percent'>"
      ]
     },
     "execution_count": 50,
     "metadata": {},
     "output_type": "execute_result"
    },
    {
     "data": {
      "image/png": "[encoded data removed]",
      "text/plain": [
       "<Figure size 1296x504 with 1 Axes>"
      ]
     },
     "metadata": {
      "needs_background": "light"
     },
     "output_type": "display_data"
    }
   ],
   "source": [
    "sns.lineplot(data=contact, x='datetime', y='percent')"
   ]
  },
  {
   "cell_type": "code",
   "execution_count": null,
   "id": "26e9b72b",
   "metadata": {},
   "outputs": [],
   "source": []
  },
  {
   "cell_type": "code",
   "execution_count": null,
   "id": "bf7f235c",
   "metadata": {},
   "outputs": [],
   "source": [
    "barrels[['datetime','contact','']].groupby(pd.Grouper(key='datetime', freq='W')).agg({'contact':'count'})"
   ]
  },
  {
   "cell_type": "code",
   "execution_count": null,
   "id": "808b7e7e",
   "metadata": {},
   "outputs": [],
   "source": []
  },
  {
   "cell_type": "code",
   "execution_count": null,
   "id": "0cfc8dc7",
   "metadata": {},
   "outputs": [],
   "source": []
  },
  {
   "cell_type": "code",
   "execution_count": null,
   "id": "9f23bb8e",
   "metadata": {},
   "outputs": [],
   "source": []
  },
  {
   "cell_type": "code",
   "execution_count": null,
   "id": "597326e9",
   "metadata": {},
   "outputs": [],
   "source": []
  },
  {
   "cell_type": "code",
   "execution_count": null,
   "id": "f5d55bca",
   "metadata": {},
   "outputs": [],
   "source": []
  },
  {
   "cell_type": "code",
   "execution_count": null,
   "id": "2a003a11",
   "metadata": {},
   "outputs": [],
   "source": []
  },
  {
   "cell_type": "code",
   "execution_count": null,
   "id": "21109756",
   "metadata": {},
   "outputs": [],
   "source": []
  },
  {
   "cell_type": "code",
   "execution_count": 8,
   "id": "aee86100",
   "metadata": {},
   "outputs": [
    {
     "data": {
      "text/plain": [
       "(396, 2)"
      ]
     },
     "execution_count": 8,
     "metadata": {},
     "output_type": "execute_result"
    }
   ],
   "source": [
    "# subset all the balls hit in play by Jonathan India\n",
    "\n",
    "ji = df[['datetime', 'launch_speed']].loc[df['player_name'] == 'India, Jonathan']\n",
    "ji.shape"
   ]
  },
  {
   "cell_type": "code",
   "execution_count": 9,
   "id": "ea2f68de",
   "metadata": {},
   "outputs": [
    {
     "data": {
      "text/plain": [
       "datetime        0\n",
       "launch_speed    0\n",
       "dtype: int64"
      ]
     },
     "execution_count": 9,
     "metadata": {},
     "output_type": "execute_result"
    }
   ],
   "source": [
    "# look for missing values\n",
    "\n",
    "ji.isnull().sum()"
   ]
  },
  {
   "cell_type": "code",
   "execution_count": 10,
   "id": "5ca0bb99",
   "metadata": {},
   "outputs": [
    {
     "data": {
      "text/plain": [
       "2"
      ]
     },
     "execution_count": 10,
     "metadata": {},
     "output_type": "execute_result"
    }
   ],
   "source": [
    "# look for duplicates (and found some)\n",
    "\n",
    "ji.duplicated().sum()"
   ]
  },
  {
   "cell_type": "code",
   "execution_count": 11,
   "id": "689059cd",
   "metadata": {},
   "outputs": [
    {
     "data": {
      "text/html": [
       "<div>\n",
       "<style scoped>\n",
       "    .dataframe tbody tr th:only-of-type {\n",
       "        vertical-align: middle;\n",
       "    }\n",
       "\n",
       "    .dataframe tbody tr th {\n",
       "        vertical-align: top;\n",
       "    }\n",
       "\n",
       "    .dataframe thead th {\n",
       "        text-align: right;\n",
       "    }\n",
       "</style>\n",
       "<table border=\"1\" class=\"dataframe\">\n",
       "  <thead>\n",
       "    <tr style=\"text-align: right;\">\n",
       "      <th></th>\n",
       "      <th>datetime</th>\n",
       "      <th>launch_speed</th>\n",
       "    </tr>\n",
       "  </thead>\n",
       "  <tbody>\n",
       "    <tr>\n",
       "      <th>42837</th>\n",
       "      <td>2021-08-26</td>\n",
       "      <td>101.0</td>\n",
       "    </tr>\n",
       "    <tr>\n",
       "      <th>72682</th>\n",
       "      <td>2021-09-10</td>\n",
       "      <td>77.3</td>\n",
       "    </tr>\n",
       "  </tbody>\n",
       "</table>\n",
       "</div>"
      ],
      "text/plain": [
       "        datetime  launch_speed\n",
       "42837 2021-08-26         101.0\n",
       "72682 2021-09-10          77.3"
      ]
     },
     "execution_count": 11,
     "metadata": {},
     "output_type": "execute_result"
    }
   ],
   "source": [
    "ji[ji.duplicated()]"
   ]
  },
  {
   "cell_type": "code",
   "execution_count": 12,
   "id": "d08d634a",
   "metadata": {},
   "outputs": [
    {
     "data": {
      "text/html": [
       "<div>\n",
       "<style scoped>\n",
       "    .dataframe tbody tr th:only-of-type {\n",
       "        vertical-align: middle;\n",
       "    }\n",
       "\n",
       "    .dataframe tbody tr th {\n",
       "        vertical-align: top;\n",
       "    }\n",
       "\n",
       "    .dataframe thead th {\n",
       "        text-align: right;\n",
       "    }\n",
       "</style>\n",
       "<table border=\"1\" class=\"dataframe\">\n",
       "  <thead>\n",
       "    <tr style=\"text-align: right;\">\n",
       "      <th></th>\n",
       "      <th>pitch_type</th>\n",
       "      <th>game_date</th>\n",
       "      <th>release_speed</th>\n",
       "      <th>player_name</th>\n",
       "      <th>batter</th>\n",
       "      <th>pitcher</th>\n",
       "      <th>events</th>\n",
       "      <th>zone</th>\n",
       "      <th>stand</th>\n",
       "      <th>p_throws</th>\n",
       "      <th>...</th>\n",
       "      <th>contact</th>\n",
       "      <th>runner_1b</th>\n",
       "      <th>runner_2b</th>\n",
       "      <th>runner_3b</th>\n",
       "      <th>scoring_play</th>\n",
       "      <th>Latitude</th>\n",
       "      <th>Longitude</th>\n",
       "      <th>park_city</th>\n",
       "      <th>park_state</th>\n",
       "      <th>datetime</th>\n",
       "    </tr>\n",
       "  </thead>\n",
       "  <tbody>\n",
       "    <tr>\n",
       "      <th>42813</th>\n",
       "      <td>CH</td>\n",
       "      <td>2021-08-26</td>\n",
       "      <td>81.7</td>\n",
       "      <td>India, Jonathan</td>\n",
       "      <td>663697</td>\n",
       "      <td>474463</td>\n",
       "      <td>grounded_into_double_play</td>\n",
       "      <td>5.0</td>\n",
       "      <td>R</td>\n",
       "      <td>L</td>\n",
       "      <td>...</td>\n",
       "      <td>Topped</td>\n",
       "      <td>1.0</td>\n",
       "      <td>NaN</td>\n",
       "      <td>NaN</td>\n",
       "      <td>False</td>\n",
       "      <td>43.027954</td>\n",
       "      <td>-87.971497</td>\n",
       "      <td>Milwaukee</td>\n",
       "      <td>Wisconsin</td>\n",
       "      <td>2021-08-26</td>\n",
       "    </tr>\n",
       "    <tr>\n",
       "      <th>42826</th>\n",
       "      <td>FF</td>\n",
       "      <td>2021-08-26</td>\n",
       "      <td>95.5</td>\n",
       "      <td>India, Jonathan</td>\n",
       "      <td>663697</td>\n",
       "      <td>519326</td>\n",
       "      <td>home_run</td>\n",
       "      <td>8.0</td>\n",
       "      <td>R</td>\n",
       "      <td>R</td>\n",
       "      <td>...</td>\n",
       "      <td>Barrel</td>\n",
       "      <td>1.0</td>\n",
       "      <td>NaN</td>\n",
       "      <td>1.0</td>\n",
       "      <td>True</td>\n",
       "      <td>43.027954</td>\n",
       "      <td>-87.971497</td>\n",
       "      <td>Milwaukee</td>\n",
       "      <td>Wisconsin</td>\n",
       "      <td>2021-08-26</td>\n",
       "    </tr>\n",
       "    <tr>\n",
       "      <th>42837</th>\n",
       "      <td>SI</td>\n",
       "      <td>2021-08-26</td>\n",
       "      <td>89.3</td>\n",
       "      <td>India, Jonathan</td>\n",
       "      <td>663697</td>\n",
       "      <td>474463</td>\n",
       "      <td>single</td>\n",
       "      <td>5.0</td>\n",
       "      <td>R</td>\n",
       "      <td>L</td>\n",
       "      <td>...</td>\n",
       "      <td>Flare/Burner</td>\n",
       "      <td>NaN</td>\n",
       "      <td>NaN</td>\n",
       "      <td>NaN</td>\n",
       "      <td>False</td>\n",
       "      <td>43.027954</td>\n",
       "      <td>-87.971497</td>\n",
       "      <td>Milwaukee</td>\n",
       "      <td>Wisconsin</td>\n",
       "      <td>2021-08-26</td>\n",
       "    </tr>\n",
       "    <tr>\n",
       "      <th>42841</th>\n",
       "      <td>CH</td>\n",
       "      <td>2021-08-26</td>\n",
       "      <td>79.4</td>\n",
       "      <td>India, Jonathan</td>\n",
       "      <td>663697</td>\n",
       "      <td>571948</td>\n",
       "      <td>field_out</td>\n",
       "      <td>9.0</td>\n",
       "      <td>R</td>\n",
       "      <td>L</td>\n",
       "      <td>...</td>\n",
       "      <td>Under</td>\n",
       "      <td>NaN</td>\n",
       "      <td>NaN</td>\n",
       "      <td>NaN</td>\n",
       "      <td>False</td>\n",
       "      <td>43.027954</td>\n",
       "      <td>-87.971497</td>\n",
       "      <td>Milwaukee</td>\n",
       "      <td>Wisconsin</td>\n",
       "      <td>2021-08-26</td>\n",
       "    </tr>\n",
       "  </tbody>\n",
       "</table>\n",
       "<p>4 rows × 58 columns</p>\n",
       "</div>"
      ],
      "text/plain": [
       "      pitch_type   game_date  release_speed      player_name  batter  pitcher  \\\n",
       "42813         CH  2021-08-26           81.7  India, Jonathan  663697   474463   \n",
       "42826         FF  2021-08-26           95.5  India, Jonathan  663697   519326   \n",
       "42837         SI  2021-08-26           89.3  India, Jonathan  663697   474463   \n",
       "42841         CH  2021-08-26           79.4  India, Jonathan  663697   571948   \n",
       "\n",
       "                          events  zone stand p_throws  ...       contact  \\\n",
       "42813  grounded_into_double_play   5.0     R        L  ...        Topped   \n",
       "42826                   home_run   8.0     R        R  ...        Barrel   \n",
       "42837                     single   5.0     R        L  ...  Flare/Burner   \n",
       "42841                  field_out   9.0     R        L  ...         Under   \n",
       "\n",
       "      runner_1b  runner_2b runner_3b  scoring_play   Latitude  Longitude  \\\n",
       "42813       1.0        NaN       NaN         False  43.027954 -87.971497   \n",
       "42826       1.0        NaN       1.0          True  43.027954 -87.971497   \n",
       "42837       NaN        NaN       NaN         False  43.027954 -87.971497   \n",
       "42841       NaN        NaN       NaN         False  43.027954 -87.971497   \n",
       "\n",
       "       park_city  park_state   datetime  \n",
       "42813  Milwaukee   Wisconsin 2021-08-26  \n",
       "42826  Milwaukee   Wisconsin 2021-08-26  \n",
       "42837  Milwaukee   Wisconsin 2021-08-26  \n",
       "42841  Milwaukee   Wisconsin 2021-08-26  \n",
       "\n",
       "[4 rows x 58 columns]"
      ]
     },
     "execution_count": 12,
     "metadata": {},
     "output_type": "execute_result"
    }
   ],
   "source": [
    "# not actually duplicates! Each of these balls hit in play are different\n",
    "\n",
    "df.loc[(df['datetime'] == '2021-08-26') & (df['player_name'] == 'India, Jonathan')]"
   ]
  },
  {
   "cell_type": "code",
   "execution_count": 13,
   "id": "f4558443",
   "metadata": {},
   "outputs": [
    {
     "data": {
      "text/html": [
       "<div>\n",
       "<style scoped>\n",
       "    .dataframe tbody tr th:only-of-type {\n",
       "        vertical-align: middle;\n",
       "    }\n",
       "\n",
       "    .dataframe tbody tr th {\n",
       "        vertical-align: top;\n",
       "    }\n",
       "\n",
       "    .dataframe thead th {\n",
       "        text-align: right;\n",
       "    }\n",
       "</style>\n",
       "<table border=\"1\" class=\"dataframe\">\n",
       "  <thead>\n",
       "    <tr style=\"text-align: right;\">\n",
       "      <th></th>\n",
       "      <th>pitch_type</th>\n",
       "      <th>game_date</th>\n",
       "      <th>release_speed</th>\n",
       "      <th>player_name</th>\n",
       "      <th>batter</th>\n",
       "      <th>pitcher</th>\n",
       "      <th>events</th>\n",
       "      <th>zone</th>\n",
       "      <th>stand</th>\n",
       "      <th>p_throws</th>\n",
       "      <th>...</th>\n",
       "      <th>contact</th>\n",
       "      <th>runner_1b</th>\n",
       "      <th>runner_2b</th>\n",
       "      <th>runner_3b</th>\n",
       "      <th>scoring_play</th>\n",
       "      <th>Latitude</th>\n",
       "      <th>Longitude</th>\n",
       "      <th>park_city</th>\n",
       "      <th>park_state</th>\n",
       "      <th>datetime</th>\n",
       "    </tr>\n",
       "  </thead>\n",
       "  <tbody>\n",
       "    <tr>\n",
       "      <th>72656</th>\n",
       "      <td>SI</td>\n",
       "      <td>2021-09-10</td>\n",
       "      <td>86.4</td>\n",
       "      <td>India, Jonathan</td>\n",
       "      <td>663697</td>\n",
       "      <td>452657</td>\n",
       "      <td>field_out</td>\n",
       "      <td>5.0</td>\n",
       "      <td>R</td>\n",
       "      <td>L</td>\n",
       "      <td>...</td>\n",
       "      <td>Topped</td>\n",
       "      <td>NaN</td>\n",
       "      <td>NaN</td>\n",
       "      <td>NaN</td>\n",
       "      <td>False</td>\n",
       "      <td>38.62278</td>\n",
       "      <td>-90.193329</td>\n",
       "      <td>St. Louis</td>\n",
       "      <td>Missouri</td>\n",
       "      <td>2021-09-10</td>\n",
       "    </tr>\n",
       "    <tr>\n",
       "      <th>72682</th>\n",
       "      <td>SI</td>\n",
       "      <td>2021-09-10</td>\n",
       "      <td>98.4</td>\n",
       "      <td>India, Jonathan</td>\n",
       "      <td>663697</td>\n",
       "      <td>472610</td>\n",
       "      <td>field_out</td>\n",
       "      <td>8.0</td>\n",
       "      <td>R</td>\n",
       "      <td>R</td>\n",
       "      <td>...</td>\n",
       "      <td>Topped</td>\n",
       "      <td>NaN</td>\n",
       "      <td>NaN</td>\n",
       "      <td>NaN</td>\n",
       "      <td>False</td>\n",
       "      <td>38.62278</td>\n",
       "      <td>-90.193329</td>\n",
       "      <td>St. Louis</td>\n",
       "      <td>Missouri</td>\n",
       "      <td>2021-09-10</td>\n",
       "    </tr>\n",
       "    <tr>\n",
       "      <th>72687</th>\n",
       "      <td>CH</td>\n",
       "      <td>2021-09-10</td>\n",
       "      <td>81.5</td>\n",
       "      <td>India, Jonathan</td>\n",
       "      <td>663697</td>\n",
       "      <td>452657</td>\n",
       "      <td>field_out</td>\n",
       "      <td>14.0</td>\n",
       "      <td>R</td>\n",
       "      <td>L</td>\n",
       "      <td>...</td>\n",
       "      <td>Weak</td>\n",
       "      <td>NaN</td>\n",
       "      <td>NaN</td>\n",
       "      <td>NaN</td>\n",
       "      <td>False</td>\n",
       "      <td>38.62278</td>\n",
       "      <td>-90.193329</td>\n",
       "      <td>St. Louis</td>\n",
       "      <td>Missouri</td>\n",
       "      <td>2021-09-10</td>\n",
       "    </tr>\n",
       "  </tbody>\n",
       "</table>\n",
       "<p>3 rows × 58 columns</p>\n",
       "</div>"
      ],
      "text/plain": [
       "      pitch_type   game_date  release_speed      player_name  batter  pitcher  \\\n",
       "72656         SI  2021-09-10           86.4  India, Jonathan  663697   452657   \n",
       "72682         SI  2021-09-10           98.4  India, Jonathan  663697   472610   \n",
       "72687         CH  2021-09-10           81.5  India, Jonathan  663697   452657   \n",
       "\n",
       "          events  zone stand p_throws  ... contact runner_1b  runner_2b  \\\n",
       "72656  field_out   5.0     R        L  ...  Topped       NaN        NaN   \n",
       "72682  field_out   8.0     R        R  ...  Topped       NaN        NaN   \n",
       "72687  field_out  14.0     R        L  ...    Weak       NaN        NaN   \n",
       "\n",
       "      runner_3b  scoring_play  Latitude  Longitude  park_city  park_state  \\\n",
       "72656       NaN         False  38.62278 -90.193329  St. Louis    Missouri   \n",
       "72682       NaN         False  38.62278 -90.193329  St. Louis    Missouri   \n",
       "72687       NaN         False  38.62278 -90.193329  St. Louis    Missouri   \n",
       "\n",
       "        datetime  \n",
       "72656 2021-09-10  \n",
       "72682 2021-09-10  \n",
       "72687 2021-09-10  \n",
       "\n",
       "[3 rows x 58 columns]"
      ]
     },
     "execution_count": 13,
     "metadata": {},
     "output_type": "execute_result"
    }
   ],
   "source": [
    "# no dups on this day either.\n",
    "\n",
    "df.loc[(df['datetime'] == '2021-09-10') & (df['player_name'] == 'India, Jonathan')]"
   ]
  },
  {
   "cell_type": "code",
   "execution_count": 14,
   "id": "f760ecbe",
   "metadata": {},
   "outputs": [
    {
     "data": {
      "text/html": [
       "<div>\n",
       "<style scoped>\n",
       "    .dataframe tbody tr th:only-of-type {\n",
       "        vertical-align: middle;\n",
       "    }\n",
       "\n",
       "    .dataframe tbody tr th {\n",
       "        vertical-align: top;\n",
       "    }\n",
       "\n",
       "    .dataframe thead th {\n",
       "        text-align: right;\n",
       "    }\n",
       "</style>\n",
       "<table border=\"1\" class=\"dataframe\">\n",
       "  <thead>\n",
       "    <tr style=\"text-align: right;\">\n",
       "      <th></th>\n",
       "      <th>launch_speed</th>\n",
       "    </tr>\n",
       "    <tr>\n",
       "      <th>datetime</th>\n",
       "      <th></th>\n",
       "    </tr>\n",
       "  </thead>\n",
       "  <tbody>\n",
       "    <tr>\n",
       "      <th>2021-04-01</th>\n",
       "      <td>109.7</td>\n",
       "    </tr>\n",
       "    <tr>\n",
       "      <th>2021-04-01</th>\n",
       "      <td>92.7</td>\n",
       "    </tr>\n",
       "    <tr>\n",
       "      <th>2021-04-01</th>\n",
       "      <td>89.6</td>\n",
       "    </tr>\n",
       "    <tr>\n",
       "      <th>2021-04-03</th>\n",
       "      <td>95.4</td>\n",
       "    </tr>\n",
       "    <tr>\n",
       "      <th>2021-04-03</th>\n",
       "      <td>65.3</td>\n",
       "    </tr>\n",
       "  </tbody>\n",
       "</table>\n",
       "</div>"
      ],
      "text/plain": [
       "            launch_speed\n",
       "datetime                \n",
       "2021-04-01         109.7\n",
       "2021-04-01          92.7\n",
       "2021-04-01          89.6\n",
       "2021-04-03          95.4\n",
       "2021-04-03          65.3"
      ]
     },
     "execution_count": 14,
     "metadata": {},
     "output_type": "execute_result"
    }
   ],
   "source": [
    "ji = ji.set_index('datetime') # Set the datetime as the index of the dataframe.\n",
    "ji.sort_index(inplace=True)\n",
    "ji.head()"
   ]
  },
  {
   "cell_type": "code",
   "execution_count": 15,
   "id": "2f7dcfa9",
   "metadata": {},
   "outputs": [
    {
     "data": {
      "image/png": "[encoded data removed]",
      "text/plain": [
       "<Figure size 1080x360 with 1 Axes>"
      ]
     },
     "metadata": {
      "needs_background": "light"
     },
     "output_type": "display_data"
    }
   ],
   "source": [
    "# Lineplot of the launch speed off the bat by Jonathan India over the whole season\n",
    "\n",
    "plt.figure(figsize=(15,5)) \n",
    "sns.lineplot(data=ji)\n",
    "plt.title('Jonathan India')\n",
    "plt.show()"
   ]
  },
  {
   "cell_type": "code",
   "execution_count": 52,
   "id": "57992eaa",
   "metadata": {
    "scrolled": false
   },
   "outputs": [
    {
     "data": {
      "text/plain": [
       "(364, 2)"
      ]
     },
     "execution_count": 52,
     "metadata": {},
     "output_type": "execute_result"
    }
   ],
   "source": [
    "# subset all the balls hit in play by Randy Arozarena\n",
    "\n",
    "ra = df[['datetime', 'launch_speed']].loc[df['player_name'] == 'Arozarena, Randy']\n",
    "ra.shape"
   ]
  },
  {
   "cell_type": "code",
   "execution_count": 55,
   "id": "b5f30a18",
   "metadata": {
    "scrolled": true
   },
   "outputs": [
    {
     "data": {
      "text/html": [
       "<div>\n",
       "<style scoped>\n",
       "    .dataframe tbody tr th:only-of-type {\n",
       "        vertical-align: middle;\n",
       "    }\n",
       "\n",
       "    .dataframe tbody tr th {\n",
       "        vertical-align: top;\n",
       "    }\n",
       "\n",
       "    .dataframe thead th {\n",
       "        text-align: right;\n",
       "    }\n",
       "</style>\n",
       "<table border=\"1\" class=\"dataframe\">\n",
       "  <thead>\n",
       "    <tr style=\"text-align: right;\">\n",
       "      <th></th>\n",
       "      <th>datetime</th>\n",
       "      <th>launch_speed</th>\n",
       "    </tr>\n",
       "  </thead>\n",
       "  <tbody>\n",
       "    <tr>\n",
       "      <th>0</th>\n",
       "      <td>2021-04-01</td>\n",
       "      <td>104.0</td>\n",
       "    </tr>\n",
       "    <tr>\n",
       "      <th>1</th>\n",
       "      <td>2021-04-01</td>\n",
       "      <td>94.0</td>\n",
       "    </tr>\n",
       "    <tr>\n",
       "      <th>2</th>\n",
       "      <td>2021-04-01</td>\n",
       "      <td>100.5</td>\n",
       "    </tr>\n",
       "    <tr>\n",
       "      <th>3</th>\n",
       "      <td>2021-04-02</td>\n",
       "      <td>70.1</td>\n",
       "    </tr>\n",
       "    <tr>\n",
       "      <th>4</th>\n",
       "      <td>2021-04-02</td>\n",
       "      <td>87.9</td>\n",
       "    </tr>\n",
       "    <tr>\n",
       "      <th>5</th>\n",
       "      <td>2021-04-02</td>\n",
       "      <td>109.7</td>\n",
       "    </tr>\n",
       "    <tr>\n",
       "      <th>6</th>\n",
       "      <td>2021-04-05</td>\n",
       "      <td>75.6</td>\n",
       "    </tr>\n",
       "    <tr>\n",
       "      <th>7</th>\n",
       "      <td>2021-04-05</td>\n",
       "      <td>100.7</td>\n",
       "    </tr>\n",
       "    <tr>\n",
       "      <th>8</th>\n",
       "      <td>2021-04-06</td>\n",
       "      <td>71.6</td>\n",
       "    </tr>\n",
       "    <tr>\n",
       "      <th>9</th>\n",
       "      <td>2021-04-06</td>\n",
       "      <td>95.8</td>\n",
       "    </tr>\n",
       "    <tr>\n",
       "      <th>10</th>\n",
       "      <td>2021-04-07</td>\n",
       "      <td>112.6</td>\n",
       "    </tr>\n",
       "    <tr>\n",
       "      <th>11</th>\n",
       "      <td>2021-04-07</td>\n",
       "      <td>70.1</td>\n",
       "    </tr>\n",
       "    <tr>\n",
       "      <th>12</th>\n",
       "      <td>2021-04-07</td>\n",
       "      <td>101.7</td>\n",
       "    </tr>\n",
       "    <tr>\n",
       "      <th>13</th>\n",
       "      <td>2021-04-09</td>\n",
       "      <td>106.0</td>\n",
       "    </tr>\n",
       "    <tr>\n",
       "      <th>14</th>\n",
       "      <td>2021-04-09</td>\n",
       "      <td>46.3</td>\n",
       "    </tr>\n",
       "  </tbody>\n",
       "</table>\n",
       "</div>"
      ],
      "text/plain": [
       "     datetime  launch_speed\n",
       "0  2021-04-01         104.0\n",
       "1  2021-04-01          94.0\n",
       "2  2021-04-01         100.5\n",
       "3  2021-04-02          70.1\n",
       "4  2021-04-02          87.9\n",
       "5  2021-04-02         109.7\n",
       "6  2021-04-05          75.6\n",
       "7  2021-04-05         100.7\n",
       "8  2021-04-06          71.6\n",
       "9  2021-04-06          95.8\n",
       "10 2021-04-07         112.6\n",
       "11 2021-04-07          70.1\n",
       "12 2021-04-07         101.7\n",
       "13 2021-04-09         106.0\n",
       "14 2021-04-09          46.3"
      ]
     },
     "execution_count": 55,
     "metadata": {},
     "output_type": "execute_result"
    }
   ],
   "source": [
    "ra = ra.sort_values(by='datetime').reset_index(drop=True)\n",
    "ra.head(15)"
   ]
  },
  {
   "cell_type": "code",
   "execution_count": 61,
   "id": "daa7583a",
   "metadata": {},
   "outputs": [
    {
     "data": {
      "text/plain": [
       "94.36666666666667"
      ]
     },
     "execution_count": 61,
     "metadata": {},
     "output_type": "execute_result"
    }
   ],
   "source": [
    "ra['launch_speed'].iloc[0:6].mean()"
   ]
  },
  {
   "cell_type": "code",
   "execution_count": 69,
   "id": "64157e36",
   "metadata": {},
   "outputs": [
    {
     "data": {
      "text/html": [
       "<div>\n",
       "<style scoped>\n",
       "    .dataframe tbody tr th:only-of-type {\n",
       "        vertical-align: middle;\n",
       "    }\n",
       "\n",
       "    .dataframe tbody tr th {\n",
       "        vertical-align: top;\n",
       "    }\n",
       "\n",
       "    .dataframe thead th {\n",
       "        text-align: right;\n",
       "    }\n",
       "</style>\n",
       "<table border=\"1\" class=\"dataframe\">\n",
       "  <thead>\n",
       "    <tr style=\"text-align: right;\">\n",
       "      <th></th>\n",
       "      <th>launch_speed</th>\n",
       "    </tr>\n",
       "    <tr>\n",
       "      <th>datetime</th>\n",
       "      <th></th>\n",
       "    </tr>\n",
       "  </thead>\n",
       "  <tbody>\n",
       "    <tr>\n",
       "      <th>2021-04-01</th>\n",
       "      <td>94.366667</td>\n",
       "    </tr>\n",
       "    <tr>\n",
       "      <th>2021-04-05</th>\n",
       "      <td>89.728571</td>\n",
       "    </tr>\n",
       "    <tr>\n",
       "      <th>2021-04-09</th>\n",
       "      <td>88.100000</td>\n",
       "    </tr>\n",
       "    <tr>\n",
       "      <th>2021-04-13</th>\n",
       "      <td>92.383333</td>\n",
       "    </tr>\n",
       "    <tr>\n",
       "      <th>2021-04-17</th>\n",
       "      <td>88.083333</td>\n",
       "    </tr>\n",
       "    <tr>\n",
       "      <th>2021-04-21</th>\n",
       "      <td>98.583333</td>\n",
       "    </tr>\n",
       "    <tr>\n",
       "      <th>2021-04-25</th>\n",
       "      <td>92.477778</td>\n",
       "    </tr>\n",
       "    <tr>\n",
       "      <th>2021-04-29</th>\n",
       "      <td>86.700000</td>\n",
       "    </tr>\n",
       "    <tr>\n",
       "      <th>2021-05-03</th>\n",
       "      <td>96.950000</td>\n",
       "    </tr>\n",
       "    <tr>\n",
       "      <th>2021-05-07</th>\n",
       "      <td>88.712500</td>\n",
       "    </tr>\n",
       "    <tr>\n",
       "      <th>2021-05-11</th>\n",
       "      <td>89.150000</td>\n",
       "    </tr>\n",
       "    <tr>\n",
       "      <th>2021-05-15</th>\n",
       "      <td>88.336364</td>\n",
       "    </tr>\n",
       "    <tr>\n",
       "      <th>2021-05-19</th>\n",
       "      <td>97.664706</td>\n",
       "    </tr>\n",
       "    <tr>\n",
       "      <th>2021-05-23</th>\n",
       "      <td>85.216667</td>\n",
       "    </tr>\n",
       "    <tr>\n",
       "      <th>2021-05-27</th>\n",
       "      <td>88.142857</td>\n",
       "    </tr>\n",
       "    <tr>\n",
       "      <th>2021-05-31</th>\n",
       "      <td>89.362500</td>\n",
       "    </tr>\n",
       "    <tr>\n",
       "      <th>2021-06-04</th>\n",
       "      <td>88.066667</td>\n",
       "    </tr>\n",
       "    <tr>\n",
       "      <th>2021-06-08</th>\n",
       "      <td>92.866667</td>\n",
       "    </tr>\n",
       "    <tr>\n",
       "      <th>2021-06-12</th>\n",
       "      <td>105.671429</td>\n",
       "    </tr>\n",
       "    <tr>\n",
       "      <th>2021-06-16</th>\n",
       "      <td>84.390909</td>\n",
       "    </tr>\n",
       "    <tr>\n",
       "      <th>2021-06-20</th>\n",
       "      <td>75.400000</td>\n",
       "    </tr>\n",
       "    <tr>\n",
       "      <th>2021-06-24</th>\n",
       "      <td>86.040000</td>\n",
       "    </tr>\n",
       "    <tr>\n",
       "      <th>2021-06-28</th>\n",
       "      <td>85.933333</td>\n",
       "    </tr>\n",
       "    <tr>\n",
       "      <th>2021-07-02</th>\n",
       "      <td>87.283333</td>\n",
       "    </tr>\n",
       "    <tr>\n",
       "      <th>2021-07-06</th>\n",
       "      <td>104.400000</td>\n",
       "    </tr>\n",
       "    <tr>\n",
       "      <th>2021-07-10</th>\n",
       "      <td>90.066667</td>\n",
       "    </tr>\n",
       "    <tr>\n",
       "      <th>2021-07-14</th>\n",
       "      <td>92.450000</td>\n",
       "    </tr>\n",
       "    <tr>\n",
       "      <th>2021-07-18</th>\n",
       "      <td>94.071429</td>\n",
       "    </tr>\n",
       "    <tr>\n",
       "      <th>2021-07-22</th>\n",
       "      <td>90.036364</td>\n",
       "    </tr>\n",
       "    <tr>\n",
       "      <th>2021-07-26</th>\n",
       "      <td>87.060000</td>\n",
       "    </tr>\n",
       "    <tr>\n",
       "      <th>2021-07-30</th>\n",
       "      <td>91.212500</td>\n",
       "    </tr>\n",
       "    <tr>\n",
       "      <th>2021-08-03</th>\n",
       "      <td>94.466667</td>\n",
       "    </tr>\n",
       "    <tr>\n",
       "      <th>2021-08-07</th>\n",
       "      <td>89.133333</td>\n",
       "    </tr>\n",
       "    <tr>\n",
       "      <th>2021-08-11</th>\n",
       "      <td>97.183333</td>\n",
       "    </tr>\n",
       "    <tr>\n",
       "      <th>2021-08-15</th>\n",
       "      <td>80.985714</td>\n",
       "    </tr>\n",
       "    <tr>\n",
       "      <th>2021-08-19</th>\n",
       "      <td>86.975000</td>\n",
       "    </tr>\n",
       "    <tr>\n",
       "      <th>2021-08-23</th>\n",
       "      <td>78.500000</td>\n",
       "    </tr>\n",
       "    <tr>\n",
       "      <th>2021-08-27</th>\n",
       "      <td>84.833333</td>\n",
       "    </tr>\n",
       "    <tr>\n",
       "      <th>2021-08-31</th>\n",
       "      <td>79.200000</td>\n",
       "    </tr>\n",
       "    <tr>\n",
       "      <th>2021-09-04</th>\n",
       "      <td>90.633333</td>\n",
       "    </tr>\n",
       "    <tr>\n",
       "      <th>2021-09-08</th>\n",
       "      <td>101.400000</td>\n",
       "    </tr>\n",
       "    <tr>\n",
       "      <th>2021-09-12</th>\n",
       "      <td>89.366667</td>\n",
       "    </tr>\n",
       "    <tr>\n",
       "      <th>2021-09-16</th>\n",
       "      <td>82.646154</td>\n",
       "    </tr>\n",
       "    <tr>\n",
       "      <th>2021-09-20</th>\n",
       "      <td>92.211111</td>\n",
       "    </tr>\n",
       "    <tr>\n",
       "      <th>2021-09-24</th>\n",
       "      <td>93.380000</td>\n",
       "    </tr>\n",
       "    <tr>\n",
       "      <th>2021-09-28</th>\n",
       "      <td>86.275000</td>\n",
       "    </tr>\n",
       "    <tr>\n",
       "      <th>2021-10-02</th>\n",
       "      <td>90.800000</td>\n",
       "    </tr>\n",
       "  </tbody>\n",
       "</table>\n",
       "</div>"
      ],
      "text/plain": [
       "            launch_speed\n",
       "datetime                \n",
       "2021-04-01     94.366667\n",
       "2021-04-05     89.728571\n",
       "2021-04-09     88.100000\n",
       "2021-04-13     92.383333\n",
       "2021-04-17     88.083333\n",
       "2021-04-21     98.583333\n",
       "2021-04-25     92.477778\n",
       "2021-04-29     86.700000\n",
       "2021-05-03     96.950000\n",
       "2021-05-07     88.712500\n",
       "2021-05-11     89.150000\n",
       "2021-05-15     88.336364\n",
       "2021-05-19     97.664706\n",
       "2021-05-23     85.216667\n",
       "2021-05-27     88.142857\n",
       "2021-05-31     89.362500\n",
       "2021-06-04     88.066667\n",
       "2021-06-08     92.866667\n",
       "2021-06-12    105.671429\n",
       "2021-06-16     84.390909\n",
       "2021-06-20     75.400000\n",
       "2021-06-24     86.040000\n",
       "2021-06-28     85.933333\n",
       "2021-07-02     87.283333\n",
       "2021-07-06    104.400000\n",
       "2021-07-10     90.066667\n",
       "2021-07-14     92.450000\n",
       "2021-07-18     94.071429\n",
       "2021-07-22     90.036364\n",
       "2021-07-26     87.060000\n",
       "2021-07-30     91.212500\n",
       "2021-08-03     94.466667\n",
       "2021-08-07     89.133333\n",
       "2021-08-11     97.183333\n",
       "2021-08-15     80.985714\n",
       "2021-08-19     86.975000\n",
       "2021-08-23     78.500000\n",
       "2021-08-27     84.833333\n",
       "2021-08-31     79.200000\n",
       "2021-09-04     90.633333\n",
       "2021-09-08    101.400000\n",
       "2021-09-12     89.366667\n",
       "2021-09-16     82.646154\n",
       "2021-09-20     92.211111\n",
       "2021-09-24     93.380000\n",
       "2021-09-28     86.275000\n",
       "2021-10-02     90.800000"
      ]
     },
     "execution_count": 69,
     "metadata": {},
     "output_type": "execute_result"
    }
   ],
   "source": [
    "ra_weekly = ra.groupby(pd.Grouper(key='datetime', axis=0, freq='4D')).mean()\n",
    "ra_weekly"
   ]
  },
  {
   "cell_type": "code",
   "execution_count": 70,
   "id": "4b8ba84f",
   "metadata": {},
   "outputs": [
    {
     "data": {
      "text/plain": [
       "[<matplotlib.lines.Line2D at 0x1287551f0>]"
      ]
     },
     "execution_count": 70,
     "metadata": {},
     "output_type": "execute_result"
    },
    {
     "data": {
      "image/png": "[encoded data removed]",
      "text/plain": [
       "<Figure size 432x288 with 1 Axes>"
      ]
     },
     "metadata": {
      "needs_background": "light"
     },
     "output_type": "display_data"
    }
   ],
   "source": [
    "plt.plot(ra_weekly)"
   ]
  },
  {
   "cell_type": "code",
   "execution_count": 71,
   "id": "085371ad",
   "metadata": {},
   "outputs": [
    {
     "data": {
      "text/plain": [
       "launch_speed    0\n",
       "dtype: int64"
      ]
     },
     "execution_count": 71,
     "metadata": {},
     "output_type": "execute_result"
    }
   ],
   "source": [
    "ra_weekly.isnull().sum()"
   ]
  },
  {
   "cell_type": "code",
   "execution_count": 18,
   "id": "d4e8a271",
   "metadata": {
    "scrolled": true
   },
   "outputs": [
    {
     "data": {
      "text/html": [
       "<div>\n",
       "<style scoped>\n",
       "    .dataframe tbody tr th:only-of-type {\n",
       "        vertical-align: middle;\n",
       "    }\n",
       "\n",
       "    .dataframe tbody tr th {\n",
       "        vertical-align: top;\n",
       "    }\n",
       "\n",
       "    .dataframe thead th {\n",
       "        text-align: right;\n",
       "    }\n",
       "</style>\n",
       "<table border=\"1\" class=\"dataframe\">\n",
       "  <thead>\n",
       "    <tr style=\"text-align: right;\">\n",
       "      <th></th>\n",
       "      <th>launch_speed</th>\n",
       "    </tr>\n",
       "    <tr>\n",
       "      <th>datetime</th>\n",
       "      <th></th>\n",
       "    </tr>\n",
       "  </thead>\n",
       "  <tbody>\n",
       "    <tr>\n",
       "      <th>2021-04-01</th>\n",
       "      <td>104.0</td>\n",
       "    </tr>\n",
       "    <tr>\n",
       "      <th>2021-04-01</th>\n",
       "      <td>94.0</td>\n",
       "    </tr>\n",
       "    <tr>\n",
       "      <th>2021-04-01</th>\n",
       "      <td>100.5</td>\n",
       "    </tr>\n",
       "    <tr>\n",
       "      <th>2021-04-02</th>\n",
       "      <td>70.1</td>\n",
       "    </tr>\n",
       "    <tr>\n",
       "      <th>2021-04-02</th>\n",
       "      <td>87.9</td>\n",
       "    </tr>\n",
       "  </tbody>\n",
       "</table>\n",
       "</div>"
      ],
      "text/plain": [
       "            launch_speed\n",
       "datetime                \n",
       "2021-04-01         104.0\n",
       "2021-04-01          94.0\n",
       "2021-04-01         100.5\n",
       "2021-04-02          70.1\n",
       "2021-04-02          87.9"
      ]
     },
     "execution_count": 18,
     "metadata": {},
     "output_type": "execute_result"
    }
   ],
   "source": [
    "ra = ra.set_index('datetime') # Set the datetime as the index of the dataframe.\n",
    "ra.sort_index(inplace=True)\n",
    "ra.head()"
   ]
  },
  {
   "cell_type": "code",
   "execution_count": 19,
   "id": "8e39d672",
   "metadata": {},
   "outputs": [
    {
     "data": {
      "text/plain": [
       "launch_speed    4\n",
       "dtype: int64"
      ]
     },
     "execution_count": 19,
     "metadata": {},
     "output_type": "execute_result"
    }
   ],
   "source": [
    "ra.isnull().sum()"
   ]
  },
  {
   "cell_type": "code",
   "execution_count": 20,
   "id": "a42ded70",
   "metadata": {},
   "outputs": [],
   "source": [
    "# drop the records that the launch speed is missing\n",
    "\n",
    "ra.dropna(subset=['launch_speed'], inplace=True)"
   ]
  },
  {
   "cell_type": "code",
   "execution_count": 21,
   "id": "484b5fcb",
   "metadata": {},
   "outputs": [
    {
     "data": {
      "text/plain": [
       "107"
      ]
     },
     "execution_count": 21,
     "metadata": {},
     "output_type": "execute_result"
    }
   ],
   "source": [
    "# no dups here\n",
    "\n",
    "ra.duplicated().sum()"
   ]
  },
  {
   "cell_type": "code",
   "execution_count": 22,
   "id": "cb190d9f",
   "metadata": {
    "scrolled": true
   },
   "outputs": [
    {
     "data": {
      "image/png": "[encoded data removed]",
      "text/plain": [
       "<Figure size 1080x360 with 1 Axes>"
      ]
     },
     "metadata": {
      "needs_background": "light"
     },
     "output_type": "display_data"
    }
   ],
   "source": [
    "# Lineplot of the launch speed off the bat by Randy Arozarena over the whole season\n",
    "\n",
    "plt.figure(figsize=(15,5)) \n",
    "sns.lineplot(data=ra)\n",
    "plt.title('Randy Arozarena - sns.lineplot()')\n",
    "plt.show()"
   ]
  },
  {
   "cell_type": "code",
   "execution_count": 23,
   "id": "677f7c60",
   "metadata": {},
   "outputs": [
    {
     "data": {
      "image/png": "[encoded data removed]",
      "text/plain": [
       "<Figure size 1080x360 with 1 Axes>"
      ]
     },
     "metadata": {
      "needs_background": "light"
     },
     "output_type": "display_data"
    }
   ],
   "source": [
    "plt.figure(figsize=(15,5)) \n",
    "plt.plot(ra)\n",
    "plt.title('Randy Arozarena - plt.plot()')\n",
    "plt.show()"
   ]
  },
  {
   "cell_type": "markdown",
   "id": "d99cf76f",
   "metadata": {},
   "source": [
    "## 3. Time series analysis: decomposition"
   ]
  },
  {
   "cell_type": "code",
   "execution_count": 24,
   "id": "9a54087a",
   "metadata": {},
   "outputs": [
    {
     "ename": "ValueError",
     "evalue": "You must specify a period or x must be a pandas object with a PeriodIndex or a DatetimeIndex with a freq not set to None",
     "output_type": "error",
     "traceback": [
      "\u001b[0;31m---------------------------------------------------------------------------\u001b[0m",
      "\u001b[0;31mValueError\u001b[0m                                Traceback (most recent call last)",
      "Input \u001b[0;32mIn [24]\u001b[0m, in \u001b[0;36m<cell line: 3>\u001b[0;34m()\u001b[0m\n\u001b[1;32m      1\u001b[0m \u001b[38;5;66;03m# Decompose the time series using an additive model\u001b[39;00m\n\u001b[0;32m----> 3\u001b[0m decomposition \u001b[38;5;241m=\u001b[39m \u001b[43msm\u001b[49m\u001b[38;5;241;43m.\u001b[39;49m\u001b[43mtsa\u001b[49m\u001b[38;5;241;43m.\u001b[39;49m\u001b[43mseasonal_decompose\u001b[49m\u001b[43m(\u001b[49m\u001b[43mji\u001b[49m\u001b[43m,\u001b[49m\u001b[43m \u001b[49m\u001b[43mmodel\u001b[49m\u001b[38;5;241;43m=\u001b[39;49m\u001b[38;5;124;43m'\u001b[39;49m\u001b[38;5;124;43madditive\u001b[39;49m\u001b[38;5;124;43m'\u001b[39;49m\u001b[43m)\u001b[49m\n",
      "File \u001b[0;32m/usr/local/lib/python3.9/site-packages/statsmodels/tsa/seasonal.py:159\u001b[0m, in \u001b[0;36mseasonal_decompose\u001b[0;34m(x, model, filt, period, two_sided, extrapolate_trend)\u001b[0m\n\u001b[1;32m    157\u001b[0m         period \u001b[38;5;241m=\u001b[39m pfreq\n\u001b[1;32m    158\u001b[0m     \u001b[38;5;28;01melse\u001b[39;00m:\n\u001b[0;32m--> 159\u001b[0m         \u001b[38;5;28;01mraise\u001b[39;00m \u001b[38;5;167;01mValueError\u001b[39;00m(\n\u001b[1;32m    160\u001b[0m             \u001b[38;5;124m\"\u001b[39m\u001b[38;5;124mYou must specify a period or x must be a pandas object with \u001b[39m\u001b[38;5;124m\"\u001b[39m\n\u001b[1;32m    161\u001b[0m             \u001b[38;5;124m\"\u001b[39m\u001b[38;5;124ma PeriodIndex or a DatetimeIndex with a freq not set to None\u001b[39m\u001b[38;5;124m\"\u001b[39m\n\u001b[1;32m    162\u001b[0m         )\n\u001b[1;32m    163\u001b[0m \u001b[38;5;28;01mif\u001b[39;00m x\u001b[38;5;241m.\u001b[39mshape[\u001b[38;5;241m0\u001b[39m] \u001b[38;5;241m<\u001b[39m \u001b[38;5;241m2\u001b[39m \u001b[38;5;241m*\u001b[39m pfreq:\n\u001b[1;32m    164\u001b[0m     \u001b[38;5;28;01mraise\u001b[39;00m \u001b[38;5;167;01mValueError\u001b[39;00m(\n\u001b[1;32m    165\u001b[0m         \u001b[38;5;124mf\u001b[39m\u001b[38;5;124m\"\u001b[39m\u001b[38;5;124mx must have 2 complete cycles requires \u001b[39m\u001b[38;5;132;01m{\u001b[39;00m\u001b[38;5;241m2\u001b[39m \u001b[38;5;241m*\u001b[39m pfreq\u001b[38;5;132;01m}\u001b[39;00m\u001b[38;5;124m \u001b[39m\u001b[38;5;124m\"\u001b[39m\n\u001b[1;32m    166\u001b[0m         \u001b[38;5;124mf\u001b[39m\u001b[38;5;124m\"\u001b[39m\u001b[38;5;124mobservations. x only has \u001b[39m\u001b[38;5;132;01m{\u001b[39;00mx\u001b[38;5;241m.\u001b[39mshape[\u001b[38;5;241m0\u001b[39m]\u001b[38;5;132;01m}\u001b[39;00m\u001b[38;5;124m observation(s)\u001b[39m\u001b[38;5;124m\"\u001b[39m\n\u001b[1;32m    167\u001b[0m     )\n",
      "\u001b[0;31mValueError\u001b[0m: You must specify a period or x must be a pandas object with a PeriodIndex or a DatetimeIndex with a freq not set to None"
     ]
    }
   ],
   "source": [
    "# Decompose the time series using an additive model\n",
    "\n",
    "decomposition = sm.tsa.seasonal_decompose(ji, model='additive', period)"
   ]
  },
  {
   "cell_type": "code",
   "execution_count": null,
   "id": "e6ce78bc",
   "metadata": {},
   "outputs": [],
   "source": []
  },
  {
   "cell_type": "code",
   "execution_count": null,
   "id": "3564da3a",
   "metadata": {},
   "outputs": [],
   "source": []
  },
  {
   "cell_type": "code",
   "execution_count": null,
   "id": "17ea62dd",
   "metadata": {},
   "outputs": [],
   "source": []
  },
  {
   "cell_type": "code",
   "execution_count": null,
   "id": "ef634052",
   "metadata": {},
   "outputs": [],
   "source": []
  }
 ],
 "metadata": {
  "kernelspec": {
   "display_name": "Python 3 (ipykernel)",
   "language": "python",
   "name": "python3"
  },
  "language_info": {
   "codemirror_mode": {
    "name": "ipython",
    "version": 3
   },
   "file_extension": ".py",
   "mimetype": "text/x-python",
   "name": "python",
   "nbconvert_exporter": "python",
   "pygments_lexer": "ipython3",
   "version": "3.9.13"
  },
  "varInspector": {
   "cols": {
    "lenName": 16,
    "lenType": 16,
    "lenVar": 40
   },
   "kernels_config": {
    "python": {
     "delete_cmd_postfix": "",
     "delete_cmd_prefix": "del ",
     "library": "var_list.py",
     "varRefreshCmd": "print(var_dic_list())"
    },
    "r": {
     "delete_cmd_postfix": ") ",
     "delete_cmd_prefix": "rm(",
     "library": "var_list.r",
     "varRefreshCmd": "cat(var_dic_list()) "
    }
   },
   "types_to_exclude": [
    "module",
    "function",
    "builtin_function_or_method",
    "instance",
    "_Feature"
   ],
   "window_display": false
  }
 },
 "nbformat": 4,
 "nbformat_minor": 5
}
